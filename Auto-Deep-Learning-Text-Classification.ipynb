{
 "cells": [
  {
   "cell_type": "markdown",
   "metadata": {},
   "source": [
    "## Ticket Classification Prediction\n",
    "The solution handles the misclassification of tickets using multifactor AI/ML based classification model. The As-Is classification scheme leads to higher MTTR(Mean Time to Resolution) and low FCR (First Call Resolution) due to misclassification of tickets. The current scheme handles these problems by automating classification of tickets using classification models. The solution considers factors such as ticket impact, urgency, priority along with ticket description and ticket categories.\n",
    "\n",
    "### Contents\n",
    "\n",
    "1. [Set up the environment](#Set-up-the-environment)\n",
    "1. [Usage Instructions](#Usage-Instructions)\n",
    "1. [Upload the data for training](#Upload-the-data-for-training)\n",
    "1. [Run Training Job](#Run-Training-Job)\n",
    "1. [Live Inference Endpoint](#Live Inference)\n",
    "1. [Batch Transform Job](#Batch-Transform-Job)\n",
    "1. [Output Interpretation](#Output-Interpretation)\n",
    "\n",
    "\n",
    "\n",
    "<img src=\"images/Flow_diagram.JPG\">"
   ]
  },
  {
   "cell_type": "markdown",
   "metadata": {},
   "source": [
    "### Prerequisite\n",
    "\n",
    "To run this algorithm you need to have access to the following AWS Services:\n",
    "- Access to AWS SageMaker and the model package.\n",
    "- An S3 bucket to specify input/output.\n",
    "- Role for AWS SageMaker to access input/output from S3."
   ]
  },
  {
   "cell_type": "markdown",
   "metadata": {},
   "source": [
    "### Input format\n",
    "#### Input:\n",
    "Name of the file: <b>train.csv</b><br>\n",
    "This file contains historical incidents that have been resolved. The solution uses the following incident specific inputs to derive specific productivity measures such as efficiency, experience and workload management across incident types for incident managers to make the predictions.<br><br>\n",
    "\n",
    "</ul>\n",
    "<li>  ID: Unique identifier for the request- alphanumeric e.g. INC0001029696</li>\n",
    "<li> Reported_Day: The day of the week in number (Preferred format: 1-7)</li>\n",
    "\n",
    "<li> prod_cat: First level category for requests e.g. Miscellaneous_Instance_Database_SQL Server Database</li>\n",
    "<li> Country: Country of origin of request, Preferred format: USA)</li>\n",
    "<li> Detailed_Description: Free Text Describing the problem in users works</li>\n",
    "<li> Priority: Status of the request e.g. Low/Medium/High</li>\n",
    "<li> Impact: High/Medium/Low\n",
    "</ul><br>\n",
    "NOTE:\n",
    "</ul>\n",
    "<li>Not all requests are mandatory. Optional Fields :Prod_Cat, Detailed_Description,prod_cat</li>\n",
    "\n",
    "</ul>\n",
    "\n",
    "\n"
   ]
  },
  {
   "cell_type": "markdown",
   "metadata": {},
   "source": [
    "## Set up the environment\n",
    "Here we specify a bucket to use and the role that will be used for working with SageMaker."
   ]
  },
  {
   "cell_type": "code",
   "execution_count": 49,
   "metadata": {},
   "outputs": [],
   "source": [
    "# S3 prefix\n",
    "prefix = 'text-classifier'\n",
    "\n",
    "# Define IAM role\n",
    "import boto3\n",
    "import re\n",
    "\n",
    "import os\n",
    "import numpy as np\n",
    "import pandas as pd\n",
    "from sagemaker import get_execution_role\n",
    "\n",
    "role = get_execution_role()"
   ]
  },
  {
   "cell_type": "markdown",
   "metadata": {},
   "source": [
    "## Create the session\n",
    "The session remembers our connection parameters to SageMaker. We'll use it to perform all of our SageMaker operations."
   ]
  },
  {
   "cell_type": "code",
   "execution_count": 50,
   "metadata": {},
   "outputs": [],
   "source": [
    "import sagemaker as sage\n",
    "from time import gmtime, strftime\n",
    "\n",
    "sess = sage.Session()"
   ]
  },
  {
   "cell_type": "markdown",
   "metadata": {},
   "source": [
    "## Upload the data for training\n",
    "When training large models with huge amounts of data, you'll typically use big data tools, like Amazon Athena, AWS Glue, or Amazon EMR, to create your data in S3. For the purposes of this example, we're using classification dataset, which we have included.\n",
    "\n",
    "We can use use the tools provided by the SageMaker Python SDK to upload the data to a default bucket."
   ]
  },
  {
   "cell_type": "code",
   "execution_count": 51,
   "metadata": {},
   "outputs": [
    {
     "data": {
      "text/plain": [
       "'s3://mphasis-marketplace/text_classifier/input/sample_train_data.zip'"
      ]
     },
     "execution_count": 51,
     "metadata": {},
     "output_type": "execute_result"
    }
   ],
   "source": [
    "data_location= 's3://mphasis-marketplace/text_classifier/input/sample_train_data.zip'\n",
    "data_location"
   ]
  },
  {
   "cell_type": "markdown",
   "metadata": {},
   "source": [
    "## Create an estimator and fit the model\n",
    "In order to use SageMaker to fit our algorithm, we'll create an Estimator that defines how to use the container to train. This includes the configuration we need to invoke SageMaker training:\n",
    "- The container name. This is constructed as in the shell commands above.\n",
    "- The role. As defined above.\n",
    "- The instance count which is the number of machines to use for training.\n",
    "- The instance type which is the type of machine to use for training.\n",
    "- The output path determines where the model artifact will be written.\n",
    "- The session is the SageMaker session object that we defined above\n",
    "\n",
    "Then we use fit() on the estimator to train against the data that we uploaded above."
   ]
  },
  {
   "cell_type": "code",
   "execution_count": 52,
   "metadata": {},
   "outputs": [
    {
     "name": "stdout",
     "output_type": "stream",
     "text": [
      "2021-03-22 15:38:49 Starting - Starting the training job...\n",
      "2021-03-22 15:39:13 Starting - Launching requested ML instancesProfilerReport-1616427529: InProgress\n",
      "......\n",
      "2021-03-22 15:40:13 Starting - Preparing the instances for training...\n",
      "2021-03-22 15:40:47 Downloading - Downloading input data...\n",
      "2021-03-22 15:41:13 Training - Downloading the training image......\n",
      "2021-03-22 15:42:16 Training - Training image download completed. Training in progress..\u001b[32m2021-03-22 15:42:14.489970: W tensorflow/stream_executor/platform/default/dso_loader.cc:60] Could not load dynamic library 'libcudart.so.11.0'; dlerror: libcudart.so.11.0: cannot open shared object file: No such file or directory\u001b[0m\n",
      "\u001b[32m2021-03-22 15:42:14.490016: I tensorflow/stream_executor/cuda/cudart_stub.cc:29] Ignore above cudart dlerror if you do not have a GPU set up on your machine.\u001b[0m\n",
      "\u001b[34m2021-03-22 15:42:13.980377: W tensorflow/stream_executor/platform/default/dso_loader.cc:60] Could not load dynamic library 'libcudart.so.11.0'; dlerror: libcudart.so.11.0: cannot open shared object file: No such file or directory\u001b[0m\n",
      "\u001b[34m2021-03-22 15:42:13.980449: I tensorflow/stream_executor/cuda/cudart_stub.cc:29] Ignore above cudart dlerror if you do not have a GPU set up on your machine.\u001b[0m\n",
      "\u001b[35m2021-03-22 15:42:17.593088: W tensorflow/stream_executor/platform/default/dso_loader.cc:60] Could not load dynamic library 'libcudart.so.11.0'; dlerror: libcudart.so.11.0: cannot open shared object file: No such file or directory\u001b[0m\n",
      "\u001b[35m2021-03-22 15:42:17.593125: I tensorflow/stream_executor/cuda/cudart_stub.cc:29] Ignore above cudart dlerror if you do not have a GPU set up on your machine.\u001b[0m\n",
      "\u001b[32mStarting the training.\u001b[0m\n",
      "\u001b[32m2021-03-22 15:42:18.663251: I tensorflow/compiler/jit/xla_cpu_device.cc:41] Not creating XLA devices, tf_xla_enable_xla_devices not set\u001b[0m\n",
      "\u001b[32m2021-03-22 15:42:18.664882: W tensorflow/stream_executor/platform/default/dso_loader.cc:60] Could not load dynamic library 'libcuda.so.1'; dlerror: libcuda.so.1: cannot open shared object file: No such file or directory\u001b[0m\n",
      "\u001b[32m2021-03-22 15:42:18.664905: W tensorflow/stream_executor/cuda/cuda_driver.cc:326] failed call to cuInit: UNKNOWN ERROR (303)\u001b[0m\n",
      "\u001b[32m2021-03-22 15:42:18.664927: I tensorflow/stream_executor/cuda/cuda_diagnostics.cc:156] kernel driver does not appear to be running on this host (ip-10-0-141-118.us-east-2.compute.internal): /proc/driver/nvidia/version does not exist\u001b[0m\n",
      "\u001b[32m2021-03-22 15:42:18.665900: I tensorflow/compiler/jit/xla_gpu_device.cc:99] Not creating XLA devices, tf_xla_enable_xla_devices not set\u001b[0m\n",
      "\u001b[32m2021-03-22 15:42:18.758163: I tensorflow/compiler/mlir/mlir_graph_optimization_pass.cc:116] None of the MLIR optimization passes are enabled (registered 2)\u001b[0m\n",
      "\u001b[32m2021-03-22 15:42:18.763092: I tensorflow/core/platform/profile_utils/cpu_utils.cc:112] CPU Frequency: 2900040000 Hz\u001b[0m\n",
      "\u001b[34mStarting the training.\u001b[0m\n",
      "\u001b[34m2021-03-22 15:42:18.629756: I tensorflow/compiler/jit/xla_cpu_device.cc:41] Not creating XLA devices, tf_xla_enable_xla_devices not set\u001b[0m\n",
      "\u001b[34m2021-03-22 15:42:18.631630: W tensorflow/stream_executor/platform/default/dso_loader.cc:60] Could not load dynamic library 'libcuda.so.1'; dlerror: libcuda.so.1: cannot open shared object file: No such file or directory\u001b[0m\n",
      "\u001b[34m2021-03-22 15:42:18.631676: W tensorflow/stream_executor/cuda/cuda_driver.cc:326] failed call to cuInit: UNKNOWN ERROR (303)\u001b[0m\n",
      "\u001b[34m2021-03-22 15:42:18.631707: I tensorflow/stream_executor/cuda/cuda_diagnostics.cc:156] kernel driver does not appear to be running on this host (ip-10-0-179-112.us-east-2.compute.internal): /proc/driver/nvidia/version does not exist\u001b[0m\n",
      "\u001b[34m2021-03-22 15:42:18.632549: I tensorflow/compiler/jit/xla_gpu_device.cc:99] Not creating XLA devices, tf_xla_enable_xla_devices not set\u001b[0m\n",
      "\u001b[34m2021-03-22 15:42:18.726178: I tensorflow/compiler/mlir/mlir_graph_optimization_pass.cc:116] None of the MLIR optimization passes are enabled (registered 2)\u001b[0m\n",
      "\u001b[34m2021-03-22 15:42:18.731949: I tensorflow/core/platform/profile_utils/cpu_utils.cc:112] CPU Frequency: 2900060000 Hz\u001b[0m\n",
      "\u001b[32mSearch: Running Trial #1\n",
      "\u001b[0m\n",
      "\u001b[32mHyperparameter    |Value             |Best Value So Far \u001b[0m\n",
      "\u001b[32mtext_to_int_seq...|64                |?                 \u001b[0m\n",
      "\u001b[32membedding_1/pre...|none              |?                 \u001b[0m\n",
      "\u001b[32membedding_1/emb...|128               |?                 \u001b[0m\n",
      "\u001b[32membedding_1/dro...|0.25              |?                 \u001b[0m\n",
      "\u001b[32mconv_block_1/ke...|3                 |?                 \u001b[0m\n",
      "\u001b[32mconv_block_1/ma...|True              |?                 \u001b[0m\n",
      "\u001b[32mconv_block_1/dr...|0                 |?                 \u001b[0m\n",
      "\u001b[32mconv_block_1/nu...|2                 |?                 \u001b[0m\n",
      "\u001b[32mconv_block_1/nu...|2                 |?                 \u001b[0m\n",
      "\u001b[32mconv_block_1/fi...|32                |?                 \u001b[0m\n",
      "\u001b[32mconv_block_1/fi...|32                |?                 \u001b[0m\n",
      "\u001b[32mconv_block_1/fi...|32                |?                 \u001b[0m\n",
      "\u001b[32mconv_block_1/fi...|32                |?                 \u001b[0m\n",
      "\u001b[32mclassification_...|flatten           |?                 \u001b[0m\n",
      "\u001b[32mclassification_...|0                 |?                 \u001b[0m\n",
      "\u001b[32moptimizer         |adam              |?                 \u001b[0m\n",
      "\u001b[32mlearning_rate     |0.001             |?                 \n",
      "\u001b[0m\n",
      "\u001b[32mEpoch 1/5\u001b[0m\n",
      "\u001b[34mSearch: Running Trial #1\n",
      "\u001b[0m\n",
      "\u001b[34mHyperparameter    |Value             |Best Value So Far \u001b[0m\n",
      "\u001b[34mtext_to_int_seq...|64                |?                 \u001b[0m\n",
      "\u001b[34membedding_1/pre...|none              |?                 \u001b[0m\n",
      "\u001b[34membedding_1/emb...|32                |?                 \u001b[0m\n",
      "\u001b[34membedding_1/dro...|0.25              |?                 \u001b[0m\n",
      "\u001b[34mconv_block_1/ke...|3                 |?                 \u001b[0m\n",
      "\u001b[34mconv_block_1/ma...|True              |?                 \u001b[0m\n",
      "\u001b[34mconv_block_1/dr...|0                 |?                 \u001b[0m\n",
      "\u001b[34mconv_block_1/nu...|2                 |?                 \u001b[0m\n",
      "\u001b[34mconv_block_1/nu...|2                 |?                 \u001b[0m\n",
      "\u001b[34mconv_block_1/fi...|32                |?                 \u001b[0m\n",
      "\u001b[34mconv_block_1/fi...|32                |?                 \u001b[0m\n",
      "\u001b[34mconv_block_1/fi...|32                |?                 \u001b[0m\n",
      "\u001b[34mconv_block_1/fi...|32                |?                 \u001b[0m\n",
      "\u001b[34mclassification_...|flatten           |?                 \u001b[0m\n",
      "\u001b[34mclassification_...|0                 |?                 \u001b[0m\n",
      "\u001b[34moptimizer         |adam              |?                 \u001b[0m\n",
      "\u001b[34mlearning_rate     |0.001             |?                 \n",
      "\u001b[0m\n",
      "\u001b[34mEpoch 1/5\u001b[0m\n",
      "\u001b[34m#015 1/13 [=>............................] - ETA: 10s - loss: 0.6931 - accuracy: 0.5312#010#010#010#010#010#010#010#010#010#010#010#010#010#010#010#010#010#010#010#010#010#010#010#010#010#010#010#010#010#010#010#010#010#010#010#010#010#010#010#010#010#010#010#010#010#010#010#010#010#010#010#010#010#010#010#010#010#010#010#010#010#010#010#010#010#010#010#010#010#010#010#010#010#010#010#010#010#010#010#010#010#010#010#015 7/13 [===============>..............] - ETA: 0s - loss: 0.6933 - accuracy: 0.4938 #010#010#010#010#010#010#010#010#010#010#010#010#010#010#010#010#010#010#010#010#010#010#010#010#010#010#010#010#010#010#010#010#010#010#010#010#010#010#010#010#010#010#010#010#010#010#010#010#010#010#010#010#010#010#010#010#010#010#010#010#010#010#010#010#010#010#010#010#010#010#010#010#010#010#010#010#010#010#010#010#010#010#01513/13 [==============================] - ETA: 0s - loss: 0.6934 - accuracy: 0.4824#010#010#010#010#010#010#010#010#010#010#010#010#010#010#010#010#010#010#010#010#010#010#010#010#010#010#010#010#010#010#010#010#010#010#010#010#010#010#010#010#010#010#010#010#010#010#010#010#010#010#010#010#010#010#010#010#010#010#010#010#010#010#010#010#010#010#010#010#010#010#010#010#010#010#010#010#010#010#010#010#010#010#01513/13 [==============================] - 1s 42ms/step - loss: 0.6934 - accuracy: 0.4816 - val_loss: 0.6932 - val_accuracy: 0.4167\u001b[0m\n",
      "\u001b[34mEpoch 2/5\u001b[0m\n",
      "\u001b[32m#015 1/13 [=>............................] - ETA: 11s - loss: 0.6931 - accuracy: 0.5000#010#010#010#010#010#010#010#010#010#010#010#010#010#010#010#010#010#010#010#010#010#010#010#010#010#010#010#010#010#010#010#010#010#010#010#010#010#010#010#010#010#010#010#010#010#010#010#010#010#010#010#010#010#010#010#010#010#010#010#010#010#010#010#010#010#010#010#010#010#010#010#010#010#010#010#010#010#010#010#010#010#010#010#015 3/13 [=====>........................] - ETA: 0s - loss: 0.6932 - accuracy: 0.4983 #010#010#010#010#010#010#010#010#010#010#010#010#010#010#010#010#010#010#010#010#010#010#010#010#010#010#010#010#010#010#010#010#010#010#010#010#010#010#010#010#010#010#010#010#010#010#010#010#010#010#010#010#010#010#010#010#010#010#010#010#010#010#010#010#010#010#010#010#010#010#010#010#010#010#010#010#010#010#010#010#010#010#015 6/13 [============>.................] - ETA: 0s - loss: 0.6933 - accuracy: 0.4838#010#010#010#010#010#010#010#010#010#010#010#010#010#010#010#010#010#010#010#010#010#010#010#010#010#010#010#010#010#010#010#010#010#010#010#010#010#010#010#010#010#010#010#010#010#010#010#010#010#010#010#010#010#010#010#010#010#010#010#010#010#010#010#010#010#010#010#010#010#010#010#010#010#010#010#010#010#010#010#010#010#010#015 9/13 [===================>..........] - ETA: 0s - loss: 0.6933 - accuracy: 0.4793#010#010#010#010#010#010#010#010#010#010#010#010#010#010#010#010#010#010#010#010#010#010#010#010#010#010#010#010#010#010#010#010#010#010#010#010#010#010#010#010#010#010#010#010#010#010#010#010#010#010#010#010#010#010#010#010#010#010#010#010#010#010#010#010#010#010#010#010#010#010#010#010#010#010#010#010#010#010#010#010#010#010#01511/13 [========================>.....] - ETA: 0s - loss: 0.6933 - accuracy: 0.4763#010#010#010#010#010#010#010#010#010#010#010#010#010#010#010#010#010#010#010#010#010#010#010#010#010#010#010#010#010#010#010#010#010#010#010#010#010#010#010#010#010#010#010#010#010#010#010#010#010#010#010#010#010#010#010#010#010#010#010#010#010#010#010#010#010#010#010#010#010#010#010#010#010#010#010#010#010#010#010#010#010#010#01513/13 [==============================] - 2s 58ms/step - loss: 0.6933 - accuracy: 0.4743 - val_loss: 0.6933 - val_accuracy: 0.4167\u001b[0m\n",
      "\u001b[32mEpoch 2/5\u001b[0m\n",
      "\u001b[32m#015 1/13 [=>............................] - ETA: 0s - loss: 0.6932 - accuracy: 0.4688#010#010#010#010#010#010#010#010#010#010#010#010#010#010#010#010#010#010#010#010#010#010#010#010#010#010#010#010#010#010#010#010#010#010#010#010#010#010#010#010#010#010#010#010#010#010#010#010#010#010#010#010#010#010#010#010#010#010#010#010#010#010#010#010#010#010#010#010#010#010#010#010#010#010#010#010#010#010#010#010#010#010#015 4/13 [========>.....................] - ETA: 0s - loss: 0.6932 - accuracy: 0.4909#010#010#010#010#010#010#010#010#010#010#010#010#010#010#010#010#010#010#010#010#010#010#010#010#010#010#010#010#010#010#010#010#010#010#010#010#010#010#010#010#010#010#010#010#010#010#010#010#010#010#010#010#010#010#010#010#010#010#010#010#010#010#010#010#010#010#010#010#010#010#010#010#010#010#010#010#010#010#010#010#010#010#015 7/13 [===============>..............] - ETA: 0s - loss: 0.6932 - accuracy: 0.5062#010#010#010#010#010#010#010#010#010#010#010#010#010#010#010#010#010#010#010#010#010#010#010#010#010#010#010#010#010#010#010#010#010#010#010#010#010#010#010#010#010#010#010#010#010#010#010#010#010#010#010#010#010#010#010#010#010#010#010#010#010#010#010#010#010#010#010#010#010#010#010#010#010#010#010#010#010#010#010#010#010#010#01510/13 [======================>.......] - ETA: 0s - loss: 0.6932 - accuracy: 0.5059#010#010#010#010#010#010#010#010#010#010#010#010#010#010#010#010#010#010#010#010#010#010#010#010#010#010#010#010#010#010#010#010#010#010#010#010#010#010#010#010#010#010#010#010#010#010#010#010#010#010#010#010#010#010#010#010#010#010#010#010#010#010#010#010#010#010#010#010#010#010#010#010#010#010#010#010#010#010#010#010#010#010#01512/13 [==========================>...] - ETA: 0s - loss: 0.6932 - accuracy: 0.5038#010#010#010#010#010#010#010#010#010#010#010#010#010#010#010#010#010#010#010#010#010#010#010#010#010#010#010#010#010#010#010#010#010#010#010#010#010#010#010#010#010#010#010#010#010#010#010#010#010#010#010#010#010#010#010#010#010#010#010#010#010#010#010#010#010#010#010#010#010#010#010#010#010#010#010#010#010#010#010#010#010#010#01513/13 [==============================] - 0s 27ms/step - loss: 0.6932 - accuracy: 0.5019 - val_loss: 0.6931 - val_accuracy: 0.5833\u001b[0m\n",
      "\u001b[32mEpoch 3/5\u001b[0m\n",
      "\u001b[34m#015 1/13 [=>............................] - ETA: 0s - loss: 0.6932 - accuracy: 0.4688#010#010#010#010#010#010#010#010#010#010#010#010#010#010#010#010#010#010#010#010#010#010#010#010#010#010#010#010#010#010#010#010#010#010#010#010#010#010#010#010#010#010#010#010#010#010#010#010#010#010#010#010#010#010#010#010#010#010#010#010#010#010#010#010#010#010#010#010#010#010#010#010#010#010#010#010#010#010#010#010#010#010#015 7/13 [===============>..............] - ETA: 0s - loss: 0.6932 - accuracy: 0.4707#010#010#010#010#010#010#010#010#010#010#010#010#010#010#010#010#010#010#010#010#010#010#010#010#010#010#010#010#010#010#010#010#010#010#010#010#010#010#010#010#010#010#010#010#010#010#010#010#010#010#010#010#010#010#010#010#010#010#010#010#010#010#010#010#010#010#010#010#010#010#010#010#010#010#010#010#010#010#010#010#010#010#01513/13 [==============================] - ETA: 0s - loss: 0.6932 - accuracy: 0.4687#010#010#010#010#010#010#010#010#010#010#010#010#010#010#010#010#010#010#010#010#010#010#010#010#010#010#010#010#010#010#010#010#010#010#010#010#010#010#010#010#010#010#010#010#010#010#010#010#010#010#010#010#010#010#010#010#010#010#010#010#010#010#010#010#010#010#010#010#010#010#010#010#010#010#010#010#010#010#010#010#010#010#01513/13 [==============================] - 0s 13ms/step - loss: 0.6932 - accuracy: 0.4689 - val_loss: 0.6930 - val_accuracy: 0.5833\u001b[0m\n",
      "\u001b[34mEpoch 3/5\u001b[0m\n",
      "\u001b[34m#015 1/13 [=>............................] - ETA: 0s - loss: 0.6931 - accuracy: 0.5312#010#010#010#010#010#010#010#010#010#010#010#010#010#010#010#010#010#010#010#010#010#010#010#010#010#010#010#010#010#010#010#010#010#010#010#010#010#010#010#010#010#010#010#010#010#010#010#010#010#010#010#010#010#010#010#010#010#010#010#010#010#010#010#010#010#010#010#010#010#010#010#010#010#010#010#010#010#010#010#010#010#010#015 7/13 [===============>..............] - ETA: 0s - loss: 0.6932 - accuracy: 0.4938#010#010#010#010#010#010#010#010#010#010#010#010#010#010#010#010#010#010#010#010#010#010#010#010#010#010#010#010#010#010#010#010#010#010#010#010#010#010#010#010#010#010#010#010#010#010#010#010#010#010#010#010#010#010#010#010#010#010#010#010#010#010#010#010#010#010#010#010#010#010#010#010#010#010#010#010#010#010#010#010#010#010#01513/13 [==============================] - ETA: 0s - loss: 0.6932 - accuracy: 0.4969#010#010#010#010#010#010#010#010#010#010#010#010#010#010#010#010#010#010#010#010#010#010#010#010#010#010#010#010#010#010#010#010#010#010#010#010#010#010#010#010#010#010#010#010#010#010#010#010#010#010#010#010#010#010#010#010#010#010#010#010#010#010#010#010#010#010#010#010#010#010#010#010#010#010#010#010#010#010#010#010#010#010#01513/13 [==============================] - 0s 12ms/step - loss: 0.6932 - accuracy: 0.4974 - val_loss: 0.6929 - val_accuracy: 0.5833\u001b[0m\n",
      "\u001b[34mEpoch 4/5\u001b[0m\n",
      "\u001b[34m#015 1/13 [=>............................] - ETA: 0s - loss: 0.6930 - accuracy: 0.5312#010#010#010#010#010#010#010#010#010#010#010#010#010#010#010#010#010#010#010#010#010#010#010#010#010#010#010#010#010#010#010#010#010#010#010#010#010#010#010#010#010#010#010#010#010#010#010#010#010#010#010#010#010#010#010#010#010#010#010#010#010#010#010#010#010#010#010#010#010#010#010#010#010#010#010#010#010#010#010#010#010#010#015 7/13 [===============>..............] - ETA: 0s - loss: 0.6932 - accuracy: 0.4938#010#010#010#010#010#010#010#010#010#010#010#010#010#010#010#010#010#010#010#010#010#010#010#010#010#010#010#010#010#010#010#010#010#010#010#010#010#010#010#010#010#010#010#010#010#010#010#010#010#010#010#010#010#010#010#010#010#010#010#010#010#010#010#010#010#010#010#010#010#010#010#010#010#010#010#010#010#010#010#010#010#010#01513/13 [==============================] - ETA: 0s - loss: 0.6932 - accuracy: 0.4969#010#010#010#010#010#010#010#010#010#010#010#010#010#010#010#010#010#010#010#010#010#010#010#010#010#010#010#010#010#010#010#010#010#010#010#010#010#010#010#010#010#010#010#010#010#010#010#010#010#010#010#010#010#010#010#010#010#010#010#010#010#010#010#010#010#010#010#010#010#010#010#010#010#010#010#010#010#010#010#010#010#010#01513/13 [==============================] - 0s 12ms/step - loss: 0.6932 - accuracy: 0.4974 - val_loss: 0.6927 - val_accuracy: 0.5833\u001b[0m\n",
      "\u001b[34mEpoch 5/5\u001b[0m\n",
      "\u001b[34m#015 1/13 [=>............................] - ETA: 0s - loss: 0.6930 - accuracy: 0.5312#010#010#010#010#010#010#010#010#010#010#010#010#010#010#010#010#010#010#010#010#010#010#010#010#010#010#010#010#010#010#010#010#010#010#010#010#010#010#010#010#010#010#010#010#010#010#010#010#010#010#010#010#010#010#010#010#010#010#010#010#010#010#010#010#010#010#010#010#010#010#010#010#010#010#010#010#010#010#010#010#010#010#015 7/13 [===============>..............] - ETA: 0s - loss: 0.6932 - accuracy: 0.4938#010#010#010#010#010#010#010#010#010#010#010#010#010#010#010#010#010#010#010#010#010#010#010#010#010#010#010#010#010#010#010#010#010#010#010#010#010#010#010#010#010#010#010#010#010#010#010#010#010#010#010#010#010#010#010#010#010#010#010#010#010#010#010#010#010#010#010#010#010#010#010#010#010#010#010#010#010#010#010#010#010#010#01513/13 [==============================] - ETA: 0s - loss: 0.6932 - accuracy: 0.4969#010#010#010#010#010#010#010#010#010#010#010#010#010#010#010#010#010#010#010#010#010#010#010#010#010#010#010#010#010#010#010#010#010#010#010#010#010#010#010#010#010#010#010#010#010#010#010#010#010#010#010#010#010#010#010#010#010#010#010#010#010#010#010#010#010#010#010#010#010#010#010#010#010#010#010#010#010#010#010#010#010#010#01513/13 [==============================] - 0s 13ms/step - loss: 0.6932 - accuracy: 0.4974 - val_loss: 0.6926 - val_accuracy: 0.5833\n",
      "\u001b[0m\n",
      "\u001b[34mTrial 1 Complete [00h 00m 02s]\u001b[0m\n",
      "\u001b[34mval_loss: 0.6926354765892029\n",
      "\u001b[0m\n",
      "\u001b[34mBest val_loss So Far: 0.6926354765892029\u001b[0m\n",
      "\u001b[34mTotal elapsed time: 00h 00m 02s\n",
      "\u001b[0m\n",
      "\u001b[34mSearch: Running Trial #2\n",
      "\u001b[0m\n",
      "\u001b[34mHyperparameter    |Value             |Best Value So Far \u001b[0m\n",
      "\u001b[34mtext_to_int_seq...|64                |64                \u001b[0m\n",
      "\u001b[34membedding_1/pre...|none              |none              \u001b[0m\n",
      "\u001b[34membedding_1/emb...|32                |32                \u001b[0m\n",
      "\u001b[34membedding_1/dro...|0.25              |0.25              \u001b[0m\n",
      "\u001b[34mconv_block_1/ke...|3                 |3                 \u001b[0m\n",
      "\u001b[34mconv_block_1/ma...|True              |True              \u001b[0m\n",
      "\u001b[34mconv_block_1/dr...|0                 |0                 \u001b[0m\n",
      "\u001b[34mconv_block_1/nu...|2                 |2                 \u001b[0m\n",
      "\u001b[34mconv_block_1/nu...|2                 |2                 \u001b[0m\n",
      "\u001b[34mconv_block_1/fi...|16                |32                \u001b[0m\n",
      "\u001b[34mconv_block_1/fi...|32                |32                \u001b[0m\n",
      "\u001b[34mconv_block_1/fi...|32                |32                \u001b[0m\n",
      "\u001b[34mconv_block_1/fi...|32                |32                \u001b[0m\n",
      "\u001b[34mclassification_...|flatten           |flatten           \u001b[0m\n",
      "\u001b[34mclassification_...|0                 |0                 \u001b[0m\n",
      "\u001b[34moptimizer         |adam              |adam              \u001b[0m\n",
      "\u001b[34mlearning_rate     |0.001             |0.001             \n",
      "\u001b[0m\n",
      "\u001b[35mStarting the training.\u001b[0m\n",
      "\u001b[35m2021-03-22 15:42:21.925525: I tensorflow/compiler/jit/xla_cpu_device.cc:41] Not creating XLA devices, tf_xla_enable_xla_devices not set\u001b[0m\n",
      "\u001b[35m2021-03-22 15:42:21.927362: W tensorflow/stream_executor/platform/default/dso_loader.cc:60] Could not load dynamic library 'libcuda.so.1'; dlerror: libcuda.so.1: cannot open shared object file: No such file or directory\u001b[0m\n",
      "\u001b[35m2021-03-22 15:42:21.927383: W tensorflow/stream_executor/cuda/cuda_driver.cc:326] failed call to cuInit: UNKNOWN ERROR (303)\u001b[0m\n",
      "\u001b[35m2021-03-22 15:42:21.927403: I tensorflow/stream_executor/cuda/cuda_diagnostics.cc:156] kernel driver does not appear to be running on this host (ip-10-0-132-117.us-east-2.compute.internal): /proc/driver/nvidia/version does not exist\u001b[0m\n",
      "\u001b[35m2021-03-22 15:42:21.928132: I tensorflow/compiler/jit/xla_gpu_device.cc:99] Not creating XLA devices, tf_xla_enable_xla_devices not set\u001b[0m\n",
      "\u001b[35m2021-03-22 15:42:22.023913: I tensorflow/compiler/mlir/mlir_graph_optimization_pass.cc:116] None of the MLIR optimization passes are enabled (registered 2)\u001b[0m\n",
      "\u001b[35m2021-03-22 15:42:22.029306: I tensorflow/core/platform/profile_utils/cpu_utils.cc:112] CPU Frequency: 2900025000 Hz\n",
      "\u001b[0m\n",
      "\u001b[35mSearch: Running Trial #1\n",
      "\u001b[0m\n",
      "\u001b[35mHyperparameter    |Value             |Best Value So Far \u001b[0m\n",
      "\u001b[35mtext_to_int_seq...|64                |?                 \u001b[0m\n",
      "\u001b[35membedding_1/pre...|none              |?                 \u001b[0m\n",
      "\u001b[35membedding_1/emb...|128               |?                 \u001b[0m\n",
      "\u001b[35membedding_1/dro...|0.25              |?                 \u001b[0m\n",
      "\u001b[35mconv_block_1/ke...|3                 |?                 \u001b[0m\n",
      "\u001b[35mconv_block_1/ma...|True              |?                 \u001b[0m\n",
      "\u001b[35mconv_block_1/dr...|0                 |?                 \u001b[0m\n",
      "\u001b[35mconv_block_1/nu...|2                 |?                 \u001b[0m\n",
      "\u001b[35mconv_block_1/nu...|2                 |?                 \u001b[0m\n",
      "\u001b[35mconv_block_1/fi...|32                |?                 \u001b[0m\n",
      "\u001b[35mconv_block_1/fi...|32                |?                 \u001b[0m\n",
      "\u001b[35mconv_block_1/fi...|32                |?                 \u001b[0m\n",
      "\u001b[35mconv_block_1/fi...|32                |?                 \u001b[0m\n",
      "\u001b[35mclassification_...|flatten           |?                 \u001b[0m\n",
      "\u001b[35mclassification_...|0                 |?                 \u001b[0m\n",
      "\u001b[35moptimizer         |adam              |?                 \u001b[0m\n",
      "\u001b[35mlearning_rate     |0.001             |?                 \n",
      "\u001b[0m\n",
      "\u001b[32m#015 1/13 [=>............................] - ETA: 0s - loss: 0.6931 - accuracy: 0.5312#010#010#010#010#010#010#010#010#010#010#010#010#010#010#010#010#010#010#010#010#010#010#010#010#010#010#010#010#010#010#010#010#010#010#010#010#010#010#010#010#010#010#010#010#010#010#010#010#010#010#010#010#010#010#010#010#010#010#010#010#010#010#010#010#010#010#010#010#010#010#010#010#010#010#010#010#010#010#010#010#010#010#015 3/13 [=====>........................] - ETA: 0s - loss: 0.6931 - accuracy: 0.5174#010#010#010#010#010#010#010#010#010#010#010#010#010#010#010#010#010#010#010#010#010#010#010#010#010#010#010#010#010#010#010#010#010#010#010#010#010#010#010#010#010#010#010#010#010#010#010#010#010#010#010#010#010#010#010#010#010#010#010#010#010#010#010#010#010#010#010#010#010#010#010#010#010#010#010#010#010#010#010#010#010#010#015 6/13 [============>.................] - ETA: 0s - loss: 0.6932 - accuracy: 0.4965#010#010#010#010#010#010#010#010#010#010#010#010#010#010#010#010#010#010#010#010#010#010#010#010#010#010#010#010#010#010#010#010#010#010#010#010#010#010#010#010#010#010#010#010#010#010#010#010#010#010#010#010#010#010#010#010#010#010#010#010#010#010#010#010#010#010#010#010#010#010#010#010#010#010#010#010#010#010#010#010#010#010#015 8/13 [=================>............] - ETA: 0s - loss: 0.6932 - accuracy: 0.4927#010#010#010#010#010#010#010#010#010#010#010#010#010#010#010#010#010#010#010#010#010#010#010#010#010#010#010#010#010#010#010#010#010#010#010#010#010#010#010#010#010#010#010#010#010#010#010#010#010#010#010#010#010#010#010#010#010#010#010#010#010#010#010#010#010#010#010#010#010#010#010#010#010#010#010#010#010#010#010#010#010#010#01510/13 [======================>.......] - ETA: 0s - loss: 0.6932 - accuracy: 0.4941#010#010#010#010#010#010#010#010#010#010#010#010#010#010#010#010#010#010#010#010#010#010#010#010#010#010#010#010#010#010#010#010#010#010#010#010#010#010#010#010#010#010#010#010#010#010#010#010#010#010#010#010#010#010#010#010#010#010#010#010#010#010#010#010#010#010#010#010#010#010#010#010#010#010#010#010#010#010#010#010#010#010#01512/13 [==========================>...] - ETA: 0s - loss: 0.6932 - accuracy: 0.4962#010#010#010#010#010#010#010#010#010#010#010#010#010#010#010#010#010#010#010#010#010#010#010#010#010#010#010#010#010#010#010#010#010#010#010#010#010#010#010#010#010#010#010#010#010#010#010#010#010#010#010#010#010#010#010#010#010#010#010#010#010#010#010#010#010#010#010#010#010#010#010#010#010#010#010#010#010#010#010#010#010#010#01513/13 [==============================] - 0s 29ms/step - loss: 0.6932 - accuracy: 0.4974 - val_loss: 0.6929 - val_accuracy: 0.5833\u001b[0m\n",
      "\u001b[32mEpoch 4/5\u001b[0m\n",
      "\u001b[32m#015 1/13 [=>............................] - ETA: 0s - loss: 0.6931 - accuracy: 0.5312#010#010#010#010#010#010#010#010#010#010#010#010#010#010#010#010#010#010#010#010#010#010#010#010#010#010#010#010#010#010#010#010#010#010#010#010#010#010#010#010#010#010#010#010#010#010#010#010#010#010#010#010#010#010#010#010#010#010#010#010#010#010#010#010#010#010#010#010#010#010#010#010#010#010#010#010#010#010#010#010#010#010#015 4/13 [========>.....................] - ETA: 0s - loss: 0.6931 - accuracy: 0.5091#010#010#010#010#010#010#010#010#010#010#010#010#010#010#010#010#010#010#010#010#010#010#010#010#010#010#010#010#010#010#010#010#010#010#010#010#010#010#010#010#010#010#010#010#010#010#010#010#010#010#010#010#010#010#010#010#010#010#010#010#010#010#010#010#010#010#010#010#010#010#010#010#010#010#010#010#010#010#010#010#010#010#015 7/13 [===============>..............] - ETA: 0s - loss: 0.6932 - accuracy: 0.4938#010#010#010#010#010#010#010#010#010#010#010#010#010#010#010#010#010#010#010#010#010#010#010#010#010#010#010#010#010#010#010#010#010#010#010#010#010#010#010#010#010#010#010#010#010#010#010#010#010#010#010#010#010#010#010#010#010#010#010#010#010#010#010#010#010#010#010#010#010#010#010#010#010#010#010#010#010#010#010#010#010#010#01510/13 [======================>.......] - ETA: 0s - loss: 0.6932 - accuracy: 0.4941#010#010#010#010#010#010#010#010#010#010#010#010#010#010#010#010#010#010#010#010#010#010#010#010#010#010#010#010#010#010#010#010#010#010#010#010#010#010#010#010#010#010#010#010#010#010#010#010#010#010#010#010#010#010#010#010#010#010#010#010#010#010#010#010#010#010#010#010#010#010#010#010#010#010#010#010#010#010#010#010#010#010#01512/13 [==========================>...] - ETA: 0s - loss: 0.6932 - accuracy: 0.4962#010#010#010#010#010#010#010#010#010#010#010#010#010#010#010#010#010#010#010#010#010#010#010#010#010#010#010#010#010#010#010#010#010#010#010#010#010#010#010#010#010#010#010#010#010#010#010#010#010#010#010#010#010#010#010#010#010#010#010#010#010#010#010#010#010#010#010#010#010#010#010#010#010#010#010#010#010#010#010#010#010#010#01513/13 [==============================] - 0s 28ms/step - loss: 0.6932 - accuracy: 0.4974 - val_loss: 0.6928 - val_accuracy: 0.5833\u001b[0m\n",
      "\u001b[32mEpoch 5/5\u001b[0m\n",
      "\u001b[34mEpoch 1/5\u001b[0m\n",
      "\u001b[35mEpoch 1/5\u001b[0m\n",
      "\u001b[32m#015 1/13 [=>............................] - ETA: 0s - loss: 0.6930 - accuracy: 0.5312#010#010#010#010#010#010#010#010#010#010#010#010#010#010#010#010#010#010#010#010#010#010#010#010#010#010#010#010#010#010#010#010#010#010#010#010#010#010#010#010#010#010#010#010#010#010#010#010#010#010#010#010#010#010#010#010#010#010#010#010#010#010#010#010#010#010#010#010#010#010#010#010#010#010#010#010#010#010#010#010#010#010#015 4/13 [========>.....................] - ETA: 0s - loss: 0.6931 - accuracy: 0.5091#010#010#010#010#010#010#010#010#010#010#010#010#010#010#010#010#010#010#010#010#010#010#010#010#010#010#010#010#010#010#010#010#010#010#010#010#010#010#010#010#010#010#010#010#010#010#010#010#010#010#010#010#010#010#010#010#010#010#010#010#010#010#010#010#010#010#010#010#010#010#010#010#010#010#010#010#010#010#010#010#010#010#015 7/13 [===============>..............] - ETA: 0s - loss: 0.6932 - accuracy: 0.4938#010#010#010#010#010#010#010#010#010#010#010#010#010#010#010#010#010#010#010#010#010#010#010#010#010#010#010#010#010#010#010#010#010#010#010#010#010#010#010#010#010#010#010#010#010#010#010#010#010#010#010#010#010#010#010#010#010#010#010#010#010#010#010#010#010#010#010#010#010#010#010#010#010#010#010#010#010#010#010#010#010#010#01510/13 [======================>.......] - ETA: 0s - loss: 0.6932 - accuracy: 0.4941#010#010#010#010#010#010#010#010#010#010#010#010#010#010#010#010#010#010#010#010#010#010#010#010#010#010#010#010#010#010#010#010#010#010#010#010#010#010#010#010#010#010#010#010#010#010#010#010#010#010#010#010#010#010#010#010#010#010#010#010#010#010#010#010#010#010#010#010#010#010#010#010#010#010#010#010#010#010#010#010#010#010#01513/13 [==============================] - ETA: 0s - loss: 0.6932 - accuracy: 0.4969#010#010#010#010#010#010#010#010#010#010#010#010#010#010#010#010#010#010#010#010#010#010#010#010#010#010#010#010#010#010#010#010#010#010#010#010#010#010#010#010#010#010#010#010#010#010#010#010#010#010#010#010#010#010#010#010#010#010#010#010#010#010#010#010#010#010#010#010#010#010#010#010#010#010#010#010#010#010#010#010#010#010#01513/13 [==============================] - 0s 26ms/step - loss: 0.6932 - accuracy: 0.4974 - val_loss: 0.6927 - val_accuracy: 0.5833\n",
      "\u001b[0m\n",
      "\u001b[32mTrial 1 Complete [00h 00m 03s]\u001b[0m\n",
      "\u001b[32mval_loss: 0.692719578742981\n",
      "\u001b[0m\n",
      "\u001b[32mBest val_loss So Far: 0.692719578742981\u001b[0m\n",
      "\u001b[32mTotal elapsed time: 00h 00m 03s\n",
      "\u001b[0m\n",
      "\u001b[32mSearch: Running Trial #2\n",
      "\u001b[0m\n",
      "\u001b[32mHyperparameter    |Value             |Best Value So Far \u001b[0m\n",
      "\u001b[32mtext_to_int_seq...|64                |64                \u001b[0m\n",
      "\u001b[32membedding_1/pre...|none              |none              \u001b[0m\n",
      "\u001b[32membedding_1/emb...|128               |128               \u001b[0m\n",
      "\u001b[32membedding_1/dro...|0.25              |0.25              \u001b[0m\n",
      "\u001b[32mconv_block_1/ke...|3                 |3                 \u001b[0m\n",
      "\u001b[32mconv_block_1/ma...|False             |True              \u001b[0m\n",
      "\u001b[32mconv_block_1/dr...|0                 |0                 \u001b[0m\n",
      "\u001b[32mconv_block_1/nu...|2                 |2                 \u001b[0m\n",
      "\u001b[32mconv_block_1/nu...|2                 |2                 \u001b[0m\n",
      "\u001b[32mconv_block_1/fi...|32                |32                \u001b[0m\n",
      "\u001b[32mconv_block_1/fi...|32                |32                \u001b[0m\n",
      "\u001b[32mconv_block_1/fi...|32                |32                \u001b[0m\n",
      "\u001b[32mconv_block_1/fi...|32                |32                \u001b[0m\n",
      "\u001b[32mclassification_...|flatten           |flatten           \u001b[0m\n",
      "\u001b[32mclassification_...|0                 |0                 \u001b[0m\n",
      "\u001b[32moptimizer         |adam              |adam              \u001b[0m\n",
      "\u001b[32mlearning_rate     |0.001             |0.001             \n",
      "\u001b[0m\n",
      "\u001b[32mEpoch 1/5\u001b[0m\n",
      "\u001b[34m#015 1/13 [=>............................] - ETA: 9s - loss: 0.6931 - accuracy: 0.5312#010#010#010#010#010#010#010#010#010#010#010#010#010#010#010#010#010#010#010#010#010#010#010#010#010#010#010#010#010#010#010#010#010#010#010#010#010#010#010#010#010#010#010#010#010#010#010#010#010#010#010#010#010#010#010#010#010#010#010#010#010#010#010#010#010#010#010#010#010#010#010#010#010#010#010#010#010#010#010#010#010#010#015 7/13 [===============>..............] - ETA: 0s - loss: 0.6933 - accuracy: 0.4938#010#010#010#010#010#010#010#010#010#010#010#010#010#010#010#010#010#010#010#010#010#010#010#010#010#010#010#010#010#010#010#010#010#010#010#010#010#010#010#010#010#010#010#010#010#010#010#010#010#010#010#010#010#010#010#010#010#010#010#010#010#010#010#010#010#010#010#010#010#010#010#010#010#010#010#010#010#010#010#010#010#010#01513/13 [==============================] - ETA: 0s - loss: 0.6933 - accuracy: 0.4820#010#010#010#010#010#010#010#010#010#010#010#010#010#010#010#010#010#010#010#010#010#010#010#010#010#010#010#010#010#010#010#010#010#010#010#010#010#010#010#010#010#010#010#010#010#010#010#010#010#010#010#010#010#010#010#010#010#010#010#010#010#010#010#010#010#010#010#010#010#010#010#010#010#010#010#010#010#010#010#010#010#010#01513/13 [==============================] - 1s 28ms/step - loss: 0.6933 - accuracy: 0.4809 - val_loss: 0.6931 - val_accuracy: 0.5833\u001b[0m\n",
      "\u001b[34mEpoch 2/5\u001b[0m\n",
      "\u001b[34m#015 1/13 [=>............................] - ETA: 0s - loss: 0.6931 - accuracy: 0.5312#010#010#010#010#010#010#010#010#010#010#010#010#010#010#010#010#010#010#010#010#010#010#010#010#010#010#010#010#010#010#010#010#010#010#010#010#010#010#010#010#010#010#010#010#010#010#010#010#010#010#010#010#010#010#010#010#010#010#010#010#010#010#010#010#010#010#010#010#010#010#010#010#010#010#010#010#010#010#010#010#010#010#015 7/13 [===============>..............] - ETA: 0s - loss: 0.6932 - accuracy: 0.4938#010#010#010#010#010#010#010#010#010#010#010#010#010#010#010#010#010#010#010#010#010#010#010#010#010#010#010#010#010#010#010#010#010#010#010#010#010#010#010#010#010#010#010#010#010#010#010#010#010#010#010#010#010#010#010#010#010#010#010#010#010#010#010#010#010#010#010#010#010#010#010#010#010#010#010#010#010#010#010#010#010#010#01513/13 [==============================] - ETA: 0s - loss: 0.6932 - accuracy: 0.4969#010#010#010#010#010#010#010#010#010#010#010#010#010#010#010#010#010#010#010#010#010#010#010#010#010#010#010#010#010#010#010#010#010#010#010#010#010#010#010#010#010#010#010#010#010#010#010#010#010#010#010#010#010#010#010#010#010#010#010#010#010#010#010#010#010#010#010#010#010#010#010#010#010#010#010#010#010#010#010#010#010#010#01513/13 [==============================] - 0s 12ms/step - loss: 0.6932 - accuracy: 0.4974 - val_loss: 0.6930 - val_accuracy: 0.5833\u001b[0m\n",
      "\u001b[34mEpoch 3/5\u001b[0m\n",
      "\u001b[34m#015 1/13 [=>............................] - ETA: 0s - loss: 0.6931 - accuracy: 0.5312#010#010#010#010#010#010#010#010#010#010#010#010#010#010#010#010#010#010#010#010#010#010#010#010#010#010#010#010#010#010#010#010#010#010#010#010#010#010#010#010#010#010#010#010#010#010#010#010#010#010#010#010#010#010#010#010#010#010#010#010#010#010#010#010#010#010#010#010#010#010#010#010#010#010#010#010#010#010#010#010#010#010#015 8/13 [=================>............] - ETA: 0s - loss: 0.6932 - accuracy: 0.4927#010#010#010#010#010#010#010#010#010#010#010#010#010#010#010#010#010#010#010#010#010#010#010#010#010#010#010#010#010#010#010#010#010#010#010#010#010#010#010#010#010#010#010#010#010#010#010#010#010#010#010#010#010#010#010#010#010#010#010#010#010#010#010#010#010#010#010#010#010#010#010#010#010#010#010#010#010#010#010#010#010#010#01513/13 [==============================] - 0s 11ms/step - loss: 0.6932 - accuracy: 0.4974 - val_loss: 0.6929 - val_accuracy: 0.5833\u001b[0m\n",
      "\u001b[34mEpoch 4/5\u001b[0m\n",
      "\u001b[34m#015 1/13 [=>............................] - ETA: 0s - loss: 0.6931 - accuracy: 0.5312#010#010#010#010#010#010#010#010#010#010#010#010#010#010#010#010#010#010#010#010#010#010#010#010#010#010#010#010#010#010#010#010#010#010#010#010#010#010#010#010#010#010#010#010#010#010#010#010#010#010#010#010#010#010#010#010#010#010#010#010#010#010#010#010#010#010#010#010#010#010#010#010#010#010#010#010#010#010#010#010#010#010#015 7/13 [===============>..............] - ETA: 0s - loss: 0.6932 - accuracy: 0.4938#010#010#010#010#010#010#010#010#010#010#010#010#010#010#010#010#010#010#010#010#010#010#010#010#010#010#010#010#010#010#010#010#010#010#010#010#010#010#010#010#010#010#010#010#010#010#010#010#010#010#010#010#010#010#010#010#010#010#010#010#010#010#010#010#010#010#010#010#010#010#010#010#010#010#010#010#010#010#010#010#010#010#01513/13 [==============================] - ETA: 0s - loss: 0.6932 - accuracy: 0.4969#010#010#010#010#010#010#010#010#010#010#010#010#010#010#010#010#010#010#010#010#010#010#010#010#010#010#010#010#010#010#010#010#010#010#010#010#010#010#010#010#010#010#010#010#010#010#010#010#010#010#010#010#010#010#010#010#010#010#010#010#010#010#010#010#010#010#010#010#010#010#010#010#010#010#010#010#010#010#010#010#010#010#01513/13 [==============================] - 0s 12ms/step - loss: 0.6932 - accuracy: 0.4974 - val_loss: 0.6929 - val_accuracy: 0.5833\u001b[0m\n",
      "\u001b[34mEpoch 5/5\u001b[0m\n",
      "\u001b[35m#015 1/13 [=>............................] - ETA: 10s - loss: 0.6931 - accuracy: 0.3750#010#010#010#010#010#010#010#010#010#010#010#010#010#010#010#010#010#010#010#010#010#010#010#010#010#010#010#010#010#010#010#010#010#010#010#010#010#010#010#010#010#010#010#010#010#010#010#010#010#010#010#010#010#010#010#010#010#010#010#010#010#010#010#010#010#010#010#010#010#010#010#010#010#010#010#010#010#010#010#010#010#010#010#015 4/13 [========>.....................] - ETA: 0s - loss: 0.6932 - accuracy: 0.4277 #010#010#010#010#010#010#010#010#010#010#010#010#010#010#010#010#010#010#010#010#010#010#010#010#010#010#010#010#010#010#010#010#010#010#010#010#010#010#010#010#010#010#010#010#010#010#010#010#010#010#010#010#010#010#010#010#010#010#010#010#010#010#010#010#010#010#010#010#010#010#010#010#010#010#010#010#010#010#010#010#010#010#015 7/13 [===============>..............] - ETA: 0s - loss: 0.6932 - accuracy: 0.4360#010#010#010#010#010#010#010#010#010#010#010#010#010#010#010#010#010#010#010#010#010#010#010#010#010#010#010#010#010#010#010#010#010#010#010#010#010#010#010#010#010#010#010#010#010#010#010#010#010#010#010#010#010#010#010#010#010#010#010#010#010#010#010#010#010#010#010#010#010#010#010#010#010#010#010#010#010#010#010#010#010#010#01510/13 [======================>.......] - ETA: 0s - loss: 0.6932 - accuracy: 0.4410#010#010#010#010#010#010#010#010#010#010#010#010#010#010#010#010#010#010#010#010#010#010#010#010#010#010#010#010#010#010#010#010#010#010#010#010#010#010#010#010#010#010#010#010#010#010#010#010#010#010#010#010#010#010#010#010#010#010#010#010#010#010#010#010#010#010#010#010#010#010#010#010#010#010#010#010#010#010#010#010#010#010#01513/13 [==============================] - ETA: 0s - loss: 0.6932 - accuracy: 0.4442#010#010#010#010#010#010#010#010#010#010#010#010#010#010#010#010#010#010#010#010#010#010#010#010#010#010#010#010#010#010#010#010#010#010#010#010#010#010#010#010#010#010#010#010#010#010#010#010#010#010#010#010#010#010#010#010#010#010#010#010#010#010#010#010#010#010#010#010#010#010#010#010#010#010#010#010#010#010#010#010#010#010#01513/13 [==============================] - 2s 52ms/step - loss: 0.6932 - accuracy: 0.4452 - val_loss: 0.6932 - val_accuracy: 0.4167\u001b[0m\n",
      "\u001b[35mEpoch 2/5\u001b[0m\n",
      "\u001b[32m#015 1/13 [=>............................] - ETA: 9s - loss: 0.6931 - accuracy: 0.5000#010#010#010#010#010#010#010#010#010#010#010#010#010#010#010#010#010#010#010#010#010#010#010#010#010#010#010#010#010#010#010#010#010#010#010#010#010#010#010#010#010#010#010#010#010#010#010#010#010#010#010#010#010#010#010#010#010#010#010#010#010#010#010#010#010#010#010#010#010#010#010#010#010#010#010#010#010#010#010#010#010#010#015 4/13 [========>.....................] - ETA: 0s - loss: 0.6933 - accuracy: 0.4928#010#010#010#010#010#010#010#010#010#010#010#010#010#010#010#010#010#010#010#010#010#010#010#010#010#010#010#010#010#010#010#010#010#010#010#010#010#010#010#010#010#010#010#010#010#010#010#010#010#010#010#010#010#010#010#010#010#010#010#010#010#010#010#010#010#010#010#010#010#010#010#010#010#010#010#010#010#010#010#010#010#010#015 7/13 [===============>..............] - ETA: 0s - loss: 0.6933 - accuracy: 0.4823#010#010#010#010#010#010#010#010#010#010#010#010#010#010#010#010#010#010#010#010#010#010#010#010#010#010#010#010#010#010#010#010#010#010#010#010#010#010#010#010#010#010#010#010#010#010#010#010#010#010#010#010#010#010#010#010#010#010#010#010#010#010#010#010#010#010#010#010#010#010#010#010#010#010#010#010#010#010#010#010#010#010#01510/13 [======================>.......] - ETA: 0s - loss: 0.6933 - accuracy: 0.4776#010#010#010#010#010#010#010#010#010#010#010#010#010#010#010#010#010#010#010#010#010#010#010#010#010#010#010#010#010#010#010#010#010#010#010#010#010#010#010#010#010#010#010#010#010#010#010#010#010#010#010#010#010#010#010#010#010#010#010#010#010#010#010#010#010#010#010#010#010#010#010#010#010#010#010#010#010#010#010#010#010#010#01513/13 [==============================] - ETA: 0s - loss: 0.6933 - accuracy: 0.4747#010#010#010#010#010#010#010#010#010#010#010#010#010#010#010#010#010#010#010#010#010#010#010#010#010#010#010#010#010#010#010#010#010#010#010#010#010#010#010#010#010#010#010#010#010#010#010#010#010#010#010#010#010#010#010#010#010#010#010#010#010#010#010#010#010#010#010#010#010#010#010#010#010#010#010#010#010#010#010#010#010#010#01513/13 [==============================] - 1s 42ms/step - loss: 0.6933 - accuracy: 0.4743 - val_loss: 0.6933 - val_accuracy: 0.4167\u001b[0m\n",
      "\u001b[32mEpoch 2/5\u001b[0m\n",
      "\u001b[34m#015 1/13 [=>............................] - ETA: 0s - loss: 0.6930 - accuracy: 0.5312#010#010#010#010#010#010#010#010#010#010#010#010#010#010#010#010#010#010#010#010#010#010#010#010#010#010#010#010#010#010#010#010#010#010#010#010#010#010#010#010#010#010#010#010#010#010#010#010#010#010#010#010#010#010#010#010#010#010#010#010#010#010#010#010#010#010#010#010#010#010#010#010#010#010#010#010#010#010#010#010#010#010#015 8/13 [=================>............] - ETA: 0s - loss: 0.6932 - accuracy: 0.4927#010#010#010#010#010#010#010#010#010#010#010#010#010#010#010#010#010#010#010#010#010#010#010#010#010#010#010#010#010#010#010#010#010#010#010#010#010#010#010#010#010#010#010#010#010#010#010#010#010#010#010#010#010#010#010#010#010#010#010#010#010#010#010#010#010#010#010#010#010#010#010#010#010#010#010#010#010#010#010#010#010#010#01513/13 [==============================] - 0s 12ms/step - loss: 0.6932 - accuracy: 0.4974 - val_loss: 0.6928 - val_accuracy: 0.5833\n",
      "\u001b[0m\n",
      "\u001b[34mTrial 2 Complete [00h 00m 02s]\u001b[0m\n",
      "\u001b[34mval_loss: 0.6927836537361145\n",
      "\u001b[0m\n",
      "\u001b[34mBest val_loss So Far: 0.6926354765892029\u001b[0m\n",
      "\u001b[34mTotal elapsed time: 00h 00m 05s\u001b[0m\n",
      "\u001b[34mEpoch 1/5\u001b[0m\n",
      "\u001b[35m#015 1/13 [=>............................] - ETA: 0s - loss: 0.6932 - accuracy: 0.4688#010#010#010#010#010#010#010#010#010#010#010#010#010#010#010#010#010#010#010#010#010#010#010#010#010#010#010#010#010#010#010#010#010#010#010#010#010#010#010#010#010#010#010#010#010#010#010#010#010#010#010#010#010#010#010#010#010#010#010#010#010#010#010#010#010#010#010#010#010#010#010#010#010#010#010#010#010#010#010#010#010#010#015 5/13 [==========>...................] - ETA: 0s - loss: 0.6932 - accuracy: 0.4565#010#010#010#010#010#010#010#010#010#010#010#010#010#010#010#010#010#010#010#010#010#010#010#010#010#010#010#010#010#010#010#010#010#010#010#010#010#010#010#010#010#010#010#010#010#010#010#010#010#010#010#010#010#010#010#010#010#010#010#010#010#010#010#010#010#010#010#010#010#010#010#010#010#010#010#010#010#010#010#010#010#010#015 8/13 [=================>............] - ETA: 0s - loss: 0.6932 - accuracy: 0.4570#010#010#010#010#010#010#010#010#010#010#010#010#010#010#010#010#010#010#010#010#010#010#010#010#010#010#010#010#010#010#010#010#010#010#010#010#010#010#010#010#010#010#010#010#010#010#010#010#010#010#010#010#010#010#010#010#010#010#010#010#010#010#010#010#010#010#010#010#010#010#010#010#010#010#010#010#010#010#010#010#010#010#01511/13 [========================>.....] - ETA: 0s - loss: 0.6932 - accuracy: 0.4562#010#010#010#010#010#010#010#010#010#010#010#010#010#010#010#010#010#010#010#010#010#010#010#010#010#010#010#010#010#010#010#010#010#010#010#010#010#010#010#010#010#010#010#010#010#010#010#010#010#010#010#010#010#010#010#010#010#010#010#010#010#010#010#010#010#010#010#010#010#010#010#010#010#010#010#010#010#010#010#010#010#010#01513/13 [==============================] - 0s 21ms/step - loss: 0.6932 - accuracy: 0.4573 - val_loss: 0.6931 - val_accuracy: 0.5833\u001b[0m\n",
      "\u001b[35mEpoch 3/5\u001b[0m\n",
      "\u001b[35m#015 1/13 [=>............................] - ETA: 0s - loss: 0.6931 - accuracy: 0.5312#010#010#010#010#010#010#010#010#010#010#010#010#010#010#010#010#010#010#010#010#010#010#010#010#010#010#010#010#010#010#010#010#010#010#010#010#010#010#010#010#010#010#010#010#010#010#010#010#010#010#010#010#010#010#010#010#010#010#010#010#010#010#010#010#010#010#010#010#010#010#010#010#010#010#010#010#010#010#010#010#010#010#015 5/13 [==========>...................] - ETA: 0s - loss: 0.6932 - accuracy: 0.5010#010#010#010#010#010#010#010#010#010#010#010#010#010#010#010#010#010#010#010#010#010#010#010#010#010#010#010#010#010#010#010#010#010#010#010#010#010#010#010#010#010#010#010#010#010#010#010#010#010#010#010#010#010#010#010#010#010#010#010#010#010#010#010#010#010#010#010#010#010#010#010#010#010#010#010#010#010#010#010#010#010#010#015 8/13 [=================>............] - ETA: 0s - loss: 0.6932 - accuracy: 0.4927#010#010#010#010#010#010#010#010#010#010#010#010#010#010#010#010#010#010#010#010#010#010#010#010#010#010#010#010#010#010#010#010#010#010#010#010#010#010#010#010#010#010#010#010#010#010#010#010#010#010#010#010#010#010#010#010#010#010#010#010#010#010#010#010#010#010#010#010#010#010#010#010#010#010#010#010#010#010#010#010#010#010#01512/13 [==========================>...] - ETA: 0s - loss: 0.6932 - accuracy: 0.4962#010#010#010#010#010#010#010#010#010#010#010#010#010#010#010#010#010#010#010#010#010#010#010#010#010#010#010#010#010#010#010#010#010#010#010#010#010#010#010#010#010#010#010#010#010#010#010#010#010#010#010#010#010#010#010#010#010#010#010#010#010#010#010#010#010#010#010#010#010#010#010#010#010#010#010#010#010#010#010#010#010#010#01513/13 [==============================] - 0s 20ms/step - loss: 0.6932 - accuracy: 0.4974 - val_loss: 0.6929 - val_accuracy: 0.5833\u001b[0m\n",
      "\u001b[35mEpoch 4/5\u001b[0m\n",
      "\u001b[35m#015 1/13 [=>............................] - ETA: 0s - loss: 0.6931 - accuracy: 0.5312#010#010#010#010#010#010#010#010#010#010#010#010#010#010#010#010#010#010#010#010#010#010#010#010#010#010#010#010#010#010#010#010#010#010#010#010#010#010#010#010#010#010#010#010#010#010#010#010#010#010#010#010#010#010#010#010#010#010#010#010#010#010#010#010#010#010#010#010#010#010#010#010#010#010#010#010#010#010#010#010#010#010#015 4/13 [========>.....................] - ETA: 0s - loss: 0.6931 - accuracy: 0.5091#010#010#010#010#010#010#010#010#010#010#010#010#010#010#010#010#010#010#010#010#010#010#010#010#010#010#010#010#010#010#010#010#010#010#010#010#010#010#010#010#010#010#010#010#010#010#010#010#010#010#010#010#010#010#010#010#010#010#010#010#010#010#010#010#010#010#010#010#010#010#010#010#010#010#010#010#010#010#010#010#010#010#015 8/13 [=================>............] - ETA: 0s - loss: 0.6932 - accuracy: 0.4927#010#010#010#010#010#010#010#010#010#010#010#010#010#010#010#010#010#010#010#010#010#010#010#010#010#010#010#010#010#010#010#010#010#010#010#010#010#010#010#010#010#010#010#010#010#010#010#010#010#010#010#010#010#010#010#010#010#010#010#010#010#010#010#010#010#010#010#010#010#010#010#010#010#010#010#010#010#010#010#010#010#010#01511/13 [========================>.....] - ETA: 0s - loss: 0.6932 - accuracy: 0.4951#010#010#010#010#010#010#010#010#010#010#010#010#010#010#010#010#010#010#010#010#010#010#010#010#010#010#010#010#010#010#010#010#010#010#010#010#010#010#010#010#010#010#010#010#010#010#010#010#010#010#010#010#010#010#010#010#010#010#010#010#010#010#010#010#010#010#010#010#010#010#010#010#010#010#010#010#010#010#010#010#010#010#01513/13 [==============================] - 0s 21ms/step - loss: 0.6932 - accuracy: 0.4974 - val_loss: 0.6928 - val_accuracy: 0.5833\u001b[0m\n",
      "\u001b[35mEpoch 5/5\u001b[0m\n",
      "\u001b[32m#015 1/13 [=>............................] - ETA: 0s - loss: 0.6932 - accuracy: 0.4688#010#010#010#010#010#010#010#010#010#010#010#010#010#010#010#010#010#010#010#010#010#010#010#010#010#010#010#010#010#010#010#010#010#010#010#010#010#010#010#010#010#010#010#010#010#010#010#010#010#010#010#010#010#010#010#010#010#010#010#010#010#010#010#010#010#010#010#010#010#010#010#010#010#010#010#010#010#010#010#010#010#010#015 4/13 [========>.....................] - ETA: 0s - loss: 0.6932 - accuracy: 0.4596#010#010#010#010#010#010#010#010#010#010#010#010#010#010#010#010#010#010#010#010#010#010#010#010#010#010#010#010#010#010#010#010#010#010#010#010#010#010#010#010#010#010#010#010#010#010#010#010#010#010#010#010#010#010#010#010#010#010#010#010#010#010#010#010#010#010#010#010#010#010#010#010#010#010#010#010#010#010#010#010#010#010#015 7/13 [===============>..............] - ETA: 0s - loss: 0.6932 - accuracy: 0.4565#010#010#010#010#010#010#010#010#010#010#010#010#010#010#010#010#010#010#010#010#010#010#010#010#010#010#010#010#010#010#010#010#010#010#010#010#010#010#010#010#010#010#010#010#010#010#010#010#010#010#010#010#010#010#010#010#010#010#010#010#010#010#010#010#010#010#010#010#010#010#010#010#010#010#010#010#010#010#010#010#010#010#01510/13 [======================>.......] - ETA: 0s - loss: 0.6932 - accuracy: 0.4564#010#010#010#010#010#010#010#010#010#010#010#010#010#010#010#010#010#010#010#010#010#010#010#010#010#010#010#010#010#010#010#010#010#010#010#010#010#010#010#010#010#010#010#010#010#010#010#010#010#010#010#010#010#010#010#010#010#010#010#010#010#010#010#010#010#010#010#010#010#010#010#010#010#010#010#010#010#010#010#010#010#010#01512/13 [==========================>...] - ETA: 0s - loss: 0.6932 - accuracy: 0.4575#010#010#010#010#010#010#010#010#010#010#010#010#010#010#010#010#010#010#010#010#010#010#010#010#010#010#010#010#010#010#010#010#010#010#010#010#010#010#010#010#010#010#010#010#010#010#010#010#010#010#010#010#010#010#010#010#010#010#010#010#010#010#010#010#010#010#010#010#010#010#010#010#010#010#010#010#010#010#010#010#010#010#01513/13 [==============================] - 0s 27ms/step - loss: 0.6932 - accuracy: 0.4588 - val_loss: 0.6930 - val_accuracy: 0.5833\u001b[0m\n",
      "\u001b[32mEpoch 3/5\u001b[0m\n",
      "\u001b[32m#015 1/13 [=>............................] - ETA: 0s - loss: 0.6931 - accuracy: 0.5312#010#010#010#010#010#010#010#010#010#010#010#010#010#010#010#010#010#010#010#010#010#010#010#010#010#010#010#010#010#010#010#010#010#010#010#010#010#010#010#010#010#010#010#010#010#010#010#010#010#010#010#010#010#010#010#010#010#010#010#010#010#010#010#010#010#010#010#010#010#010#010#010#010#010#010#010#010#010#010#010#010#010#015 4/13 [========>.....................] - ETA: 0s - loss: 0.6931 - accuracy: 0.5091#010#010#010#010#010#010#010#010#010#010#010#010#010#010#010#010#010#010#010#010#010#010#010#010#010#010#010#010#010#010#010#010#010#010#010#010#010#010#010#010#010#010#010#010#010#010#010#010#010#010#010#010#010#010#010#010#010#010#010#010#010#010#010#010#010#010#010#010#010#010#010#010#010#010#010#010#010#010#010#010#010#010#015 7/13 [===============>..............] - ETA: 0s - loss: 0.6932 - accuracy: 0.4938#010#010#010#010#010#010#010#010#010#010#010#010#010#010#010#010#010#010#010#010#010#010#010#010#010#010#010#010#010#010#010#010#010#010#010#010#010#010#010#010#010#010#010#010#010#010#010#010#010#010#010#010#010#010#010#010#010#010#010#010#010#010#010#010#010#010#010#010#010#010#010#010#010#010#010#010#010#010#010#010#010#010#01510/13 [======================>.......] - ETA: 0s - loss: 0.6932 - accuracy: 0.4941#010#010#010#010#010#010#010#010#010#010#010#010#010#010#010#010#010#010#010#010#010#010#010#010#010#010#010#010#010#010#010#010#010#010#010#010#010#010#010#010#010#010#010#010#010#010#010#010#010#010#010#010#010#010#010#010#010#010#010#010#010#010#010#010#010#010#010#010#010#010#010#010#010#010#010#010#010#010#010#010#010#010#01513/13 [==============================] - ETA: 0s - loss: 0.6932 - accuracy: 0.4969#010#010#010#010#010#010#010#010#010#010#010#010#010#010#010#010#010#010#010#010#010#010#010#010#010#010#010#010#010#010#010#010#010#010#010#010#010#010#010#010#010#010#010#010#010#010#010#010#010#010#010#010#010#010#010#010#010#010#010#010#010#010#010#010#010#010#010#010#010#010#010#010#010#010#010#010#010#010#010#010#010#010#01513/13 [==============================] - 0s 26ms/step - loss: 0.6932 - accuracy: 0.4974 - val_loss: 0.6929 - val_accuracy: 0.5833\u001b[0m\n",
      "\u001b[32mEpoch 4/5\u001b[0m\n",
      "\u001b[34m#015 1/16 [>.............................] - ETA: 11s - loss: 0.6932 - accuracy: 0.3750#010#010#010#010#010#010#010#010#010#010#010#010#010#010#010#010#010#010#010#010#010#010#010#010#010#010#010#010#010#010#010#010#010#010#010#010#010#010#010#010#010#010#010#010#010#010#010#010#010#010#010#010#010#010#010#010#010#010#010#010#010#010#010#010#010#010#010#010#010#010#010#010#010#010#010#010#010#010#010#010#010#010#010#015 7/16 [============>.................] - ETA: 0s - loss: 0.6933 - accuracy: 0.4360 #010#010#010#010#010#010#010#010#010#010#010#010#010#010#010#010#010#010#010#010#010#010#010#010#010#010#010#010#010#010#010#010#010#010#010#010#010#010#010#010#010#010#010#010#010#010#010#010#010#010#010#010#010#010#010#010#010#010#010#010#010#010#010#010#010#010#010#010#010#010#010#010#010#010#010#010#010#010#010#010#010#010#01513/16 [=======================>......] - ETA: 0s - loss: 0.6933 - accuracy: 0.4442#010#010#010#010#010#010#010#010#010#010#010#010#010#010#010#010#010#010#010#010#010#010#010#010#010#010#010#010#010#010#010#010#010#010#010#010#010#010#010#010#010#010#010#010#010#010#010#010#010#010#010#010#010#010#010#010#010#010#010#010#010#010#010#010#010#010#010#010#010#010#010#010#010#010#010#010#010#010#010#010#010#010#01516/16 [==============================] - 1s 9ms/step - loss: 0.6933 - accuracy: 0.4457\u001b[0m\n",
      "\u001b[34mEpoch 2/5\u001b[0m\n",
      "\u001b[34m#015 1/16 [>.............................] - ETA: 0s - loss: 0.6931 - accuracy: 0.5312#010#010#010#010#010#010#010#010#010#010#010#010#010#010#010#010#010#010#010#010#010#010#010#010#010#010#010#010#010#010#010#010#010#010#010#010#010#010#010#010#010#010#010#010#010#010#010#010#010#010#010#010#010#010#010#010#010#010#010#010#010#010#010#010#010#010#010#010#010#010#010#010#010#010#010#010#010#010#010#010#010#010#015 7/16 [============>.................] - ETA: 0s - loss: 0.6932 - accuracy: 0.4938#010#010#010#010#010#010#010#010#010#010#010#010#010#010#010#010#010#010#010#010#010#010#010#010#010#010#010#010#010#010#010#010#010#010#010#010#010#010#010#010#010#010#010#010#010#010#010#010#010#010#010#010#010#010#010#010#010#010#010#010#010#010#010#010#010#010#010#010#010#010#010#010#010#010#010#010#010#010#010#010#010#010#01513/16 [=======================>......] - ETA: 0s - loss: 0.6932 - accuracy: 0.4969#010#010#010#010#010#010#010#010#010#010#010#010#010#010#010#010#010#010#010#010#010#010#010#010#010#010#010#010#010#010#010#010#010#010#010#010#010#010#010#010#010#010#010#010#010#010#010#010#010#010#010#010#010#010#010#010#010#010#010#010#010#010#010#010#010#010#010#010#010#010#010#010#010#010#010#010#010#010#010#010#010#010#01516/16 [==============================] - 0s 9ms/step - loss: 0.6931 - accuracy: 0.5021\u001b[0m\n",
      "\u001b[34mEpoch 3/5\u001b[0m\n",
      "\u001b[34m#015 1/16 [>.............................] - ETA: 0s - loss: 0.6929 - accuracy: 0.5312#010#010#010#010#010#010#010#010#010#010#010#010#010#010#010#010#010#010#010#010#010#010#010#010#010#010#010#010#010#010#010#010#010#010#010#010#010#010#010#010#010#010#010#010#010#010#010#010#010#010#010#010#010#010#010#010#010#010#010#010#010#010#010#010#010#010#010#010#010#010#010#010#010#010#010#010#010#010#010#010#010#010#015 7/16 [============>.................] - ETA: 0s - loss: 0.6933 - accuracy: 0.4938#010#010#010#010#010#010#010#010#010#010#010#010#010#010#010#010#010#010#010#010#010#010#010#010#010#010#010#010#010#010#010#010#010#010#010#010#010#010#010#010#010#010#010#010#010#010#010#010#010#010#010#010#010#010#010#010#010#010#010#010#010#010#010#010#010#010#010#010#010#010#010#010#010#010#010#010#010#010#010#010#010#010#01513/16 [=======================>......] - ETA: 0s - loss: 0.6932 - accuracy: 0.4969#010#010#010#010#010#010#010#010#010#010#010#010#010#010#010#010#010#010#010#010#010#010#010#010#010#010#010#010#010#010#010#010#010#010#010#010#010#010#010#010#010#010#010#010#010#010#010#010#010#010#010#010#010#010#010#010#010#010#010#010#010#010#010#010#010#010#010#010#010#010#010#010#010#010#010#010#010#010#010#010#010#010#01516/16 [==============================] - 0s 9ms/step - loss: 0.6931 - accuracy: 0.5021\u001b[0m\n",
      "\u001b[34mEpoch 4/5\u001b[0m\n",
      "\u001b[34m#015 1/16 [>.............................] - ETA: 0s - loss: 0.6927 - accuracy: 0.5312#010#010#010#010#010#010#010#010#010#010#010#010#010#010#010#010#010#010#010#010#010#010#010#010#010#010#010#010#010#010#010#010#010#010#010#010#010#010#010#010#010#010#010#010#010#010#010#010#010#010#010#010#010#010#010#010#010#010#010#010#010#010#010#010#010#010#010#010#010#010#010#010#010#010#010#010#010#010#010#010#010#010#015 7/16 [============>.................] - ETA: 0s - loss: 0.6933 - accuracy: 0.4938#010#010#010#010#010#010#010#010#010#010#010#010#010#010#010#010#010#010#010#010#010#010#010#010#010#010#010#010#010#010#010#010#010#010#010#010#010#010#010#010#010#010#010#010#010#010#010#010#010#010#010#010#010#010#010#010#010#010#010#010#010#010#010#010#010#010#010#010#010#010#010#010#010#010#010#010#010#010#010#010#010#010#01513/16 [=======================>......] - ETA: 0s - loss: 0.6933 - accuracy: 0.4969#010#010#010#010#010#010#010#010#010#010#010#010#010#010#010#010#010#010#010#010#010#010#010#010#010#010#010#010#010#010#010#010#010#010#010#010#010#010#010#010#010#010#010#010#010#010#010#010#010#010#010#010#010#010#010#010#010#010#010#010#010#010#010#010#010#010#010#010#010#010#010#010#010#010#010#010#010#010#010#010#010#010#01516/16 [==============================] - 0s 9ms/step - loss: 0.6932 - accuracy: 0.5021\u001b[0m\n",
      "\u001b[34mEpoch 5/5\u001b[0m\n",
      "\u001b[35m#015 1/13 [=>............................] - ETA: 0s - loss: 0.6930 - accuracy: 0.5312#010#010#010#010#010#010#010#010#010#010#010#010#010#010#010#010#010#010#010#010#010#010#010#010#010#010#010#010#010#010#010#010#010#010#010#010#010#010#010#010#010#010#010#010#010#010#010#010#010#010#010#010#010#010#010#010#010#010#010#010#010#010#010#010#010#010#010#010#010#010#010#010#010#010#010#010#010#010#010#010#010#010#015 4/13 [========>.....................] - ETA: 0s - loss: 0.6931 - accuracy: 0.5091#010#010#010#010#010#010#010#010#010#010#010#010#010#010#010#010#010#010#010#010#010#010#010#010#010#010#010#010#010#010#010#010#010#010#010#010#010#010#010#010#010#010#010#010#010#010#010#010#010#010#010#010#010#010#010#010#010#010#010#010#010#010#010#010#010#010#010#010#010#010#010#010#010#010#010#010#010#010#010#010#010#010#015 7/13 [===============>..............] - ETA: 0s - loss: 0.6932 - accuracy: 0.4938#010#010#010#010#010#010#010#010#010#010#010#010#010#010#010#010#010#010#010#010#010#010#010#010#010#010#010#010#010#010#010#010#010#010#010#010#010#010#010#010#010#010#010#010#010#010#010#010#010#010#010#010#010#010#010#010#010#010#010#010#010#010#010#010#010#010#010#010#010#010#010#010#010#010#010#010#010#010#010#010#010#010#01511/13 [========================>.....] - ETA: 0s - loss: 0.6932 - accuracy: 0.4951#010#010#010#010#010#010#010#010#010#010#010#010#010#010#010#010#010#010#010#010#010#010#010#010#010#010#010#010#010#010#010#010#010#010#010#010#010#010#010#010#010#010#010#010#010#010#010#010#010#010#010#010#010#010#010#010#010#010#010#010#010#010#010#010#010#010#010#010#010#010#010#010#010#010#010#010#010#010#010#010#010#010#01513/13 [==============================] - 0s 20ms/step - loss: 0.6932 - accuracy: 0.4974 - val_loss: 0.6927 - val_accuracy: 0.5833\n",
      "\u001b[0m\n",
      "\u001b[35mTrial 1 Complete [00h 00m 03s]\u001b[0m\n",
      "\u001b[35mval_loss: 0.69273841381073\n",
      "\u001b[0m\n",
      "\u001b[35mBest val_loss So Far: 0.69273841381073\u001b[0m\n",
      "\u001b[35mTotal elapsed time: 00h 00m 03s\n",
      "\u001b[0m\n",
      "\u001b[35mSearch: Running Trial #2\n",
      "\u001b[0m\n",
      "\u001b[35mHyperparameter    |Value             |Best Value So Far \u001b[0m\n",
      "\u001b[35mtext_to_int_seq...|64                |64                \u001b[0m\n",
      "\u001b[35membedding_1/pre...|none              |none              \u001b[0m\n",
      "\u001b[35membedding_1/emb...|128               |128               \u001b[0m\n",
      "\u001b[35membedding_1/dro...|0.25              |0.25              \u001b[0m\n",
      "\u001b[35mconv_block_1/ke...|3                 |3                 \u001b[0m\n",
      "\u001b[35mconv_block_1/ma...|True              |True              \u001b[0m\n",
      "\u001b[35mconv_block_1/dr...|0                 |0                 \u001b[0m\n",
      "\u001b[35mconv_block_1/nu...|2                 |2                 \u001b[0m\n",
      "\u001b[35mconv_block_1/nu...|2                 |2                 \u001b[0m\n",
      "\u001b[35mconv_block_1/fi...|32                |32                \u001b[0m\n",
      "\u001b[35mconv_block_1/fi...|32                |32                \u001b[0m\n",
      "\u001b[35mconv_block_1/fi...|32                |32                \u001b[0m\n",
      "\u001b[35mconv_block_1/fi...|32                |32                \u001b[0m\n",
      "\u001b[35mclassification_...|flatten           |flatten           \u001b[0m\n",
      "\u001b[35mclassification_...|0                 |0                 \u001b[0m\n",
      "\u001b[35moptimizer         |sgd               |adam              \u001b[0m\n",
      "\u001b[35mlearning_rate     |0.001             |0.001             \n",
      "\u001b[0m\n",
      "\u001b[35mEpoch 1/5\u001b[0m\n",
      "\u001b[35m#015 1/13 [=>............................] - ETA: 7s - loss: 0.6931 - accuracy: 0.4375#010#010#010#010#010#010#010#010#010#010#010#010#010#010#010#010#010#010#010#010#010#010#010#010#010#010#010#010#010#010#010#010#010#010#010#010#010#010#010#010#010#010#010#010#010#010#010#010#010#010#010#010#010#010#010#010#010#010#010#010#010#010#010#010#010#010#010#010#010#010#010#010#010#010#010#010#010#010#010#010#010#010#015 8/13 [=================>............] - ETA: 0s - loss: 0.6931 - accuracy: 0.4816#010#010#010#010#010#010#010#010#010#010#010#010#010#010#010#010#010#010#010#010#010#010#010#010#010#010#010#010#010#010#010#010#010#010#010#010#010#010#010#010#010#010#010#010#010#010#010#010#010#010#010#010#010#010#010#010#010#010#010#010#010#010#010#010#010#010#010#010#010#010#010#010#010#010#010#010#010#010#010#010#010#010#01513/13 [==============================] - 1s 27ms/step - loss: 0.6931 - accuracy: 0.4810 - val_loss: 0.6931 - val_accuracy: 0.5238\u001b[0m\n",
      "\u001b[35mEpoch 2/5\u001b[0m\n",
      "\u001b[35m#015 1/13 [=>............................] - ETA: 0s - loss: 0.6931 - accuracy: 0.5312#010#010#010#010#010#010#010#010#010#010#010#010#010#010#010#010#010#010#010#010#010#010#010#010#010#010#010#010#010#010#010#010#010#010#010#010#010#010#010#010#010#010#010#010#010#010#010#010#010#010#010#010#010#010#010#010#010#010#010#010#010#010#010#010#010#010#010#010#010#010#010#010#010#010#010#010#010#010#010#010#010#010#015 8/13 [=================>............] - ETA: 0s - loss: 0.6931 - accuracy: 0.5135#010#010#010#010#010#010#010#010#010#010#010#010#010#010#010#010#010#010#010#010#010#010#010#010#010#010#010#010#010#010#010#010#010#010#010#010#010#010#010#010#010#010#010#010#010#010#010#010#010#010#010#010#010#010#010#010#010#010#010#010#010#010#010#010#010#010#010#010#010#010#010#010#010#010#010#010#010#010#010#010#010#010#01513/13 [==============================] - 0s 11ms/step - loss: 0.6931 - accuracy: 0.5064 - val_loss: 0.6931 - val_accuracy: 0.5833\u001b[0m\n",
      "\u001b[35mEpoch 3/5\u001b[0m\n",
      "\u001b[35m#015 1/13 [=>............................] - ETA: 0s - loss: 0.6931 - accuracy: 0.5312#010#010#010#010#010#010#010#010#010#010#010#010#010#010#010#010#010#010#010#010#010#010#010#010#010#010#010#010#010#010#010#010#010#010#010#010#010#010#010#010#010#010#010#010#010#010#010#010#010#010#010#010#010#010#010#010#010#010#010#010#010#010#010#010#010#010#010#010#010#010#010#010#010#010#010#010#010#010#010#010#010#010#015 8/13 [=================>............] - ETA: 0s - loss: 0.6931 - accuracy: 0.4917#010#010#010#010#010#010#010#010#010#010#010#010#010#010#010#010#010#010#010#010#010#010#010#010#010#010#010#010#010#010#010#010#010#010#010#010#010#010#010#010#010#010#010#010#010#010#010#010#010#010#010#010#010#010#010#010#010#010#010#010#010#010#010#010#010#010#010#010#010#010#010#010#010#010#010#010#010#010#010#010#010#010#01513/13 [==============================] - 0s 11ms/step - loss: 0.6931 - accuracy: 0.4872 - val_loss: 0.6931 - val_accuracy: 0.5833\u001b[0m\n",
      "\u001b[32m#015 1/13 [=>............................] - ETA: 0s - loss: 0.6931 - accuracy: 0.5312#010#010#010#010#010#010#010#010#010#010#010#010#010#010#010#010#010#010#010#010#010#010#010#010#010#010#010#010#010#010#010#010#010#010#010#010#010#010#010#010#010#010#010#010#010#010#010#010#010#010#010#010#010#010#010#010#010#010#010#010#010#010#010#010#010#010#010#010#010#010#010#010#010#010#010#010#010#010#010#010#010#010#015 4/13 [========>.....................] - ETA: 0s - loss: 0.6931 - accuracy: 0.5091#010#010#010#010#010#010#010#010#010#010#010#010#010#010#010#010#010#010#010#010#010#010#010#010#010#010#010#010#010#010#010#010#010#010#010#010#010#010#010#010#010#010#010#010#010#010#010#010#010#010#010#010#010#010#010#010#010#010#010#010#010#010#010#010#010#010#010#010#010#010#010#010#010#010#010#010#010#010#010#010#010#010#015 6/13 [============>.................] - ETA: 0s - loss: 0.6932 - accuracy: 0.4965#010#010#010#010#010#010#010#010#010#010#010#010#010#010#010#010#010#010#010#010#010#010#010#010#010#010#010#010#010#010#010#010#010#010#010#010#010#010#010#010#010#010#010#010#010#010#010#010#010#010#010#010#010#010#010#010#010#010#010#010#010#010#010#010#010#010#010#010#010#010#010#010#010#010#010#010#010#010#010#010#010#010#015 9/13 [===================>..........] - ETA: 0s - loss: 0.6932 - accuracy: 0.4931#010#010#010#010#010#010#010#010#010#010#010#010#010#010#010#010#010#010#010#010#010#010#010#010#010#010#010#010#010#010#010#010#010#010#010#010#010#010#010#010#010#010#010#010#010#010#010#010#010#010#010#010#010#010#010#010#010#010#010#010#010#010#010#010#010#010#010#010#010#010#010#010#010#010#010#010#010#010#010#010#010#010#01512/13 [==========================>...] - ETA: 0s - loss: 0.6932 - accuracy: 0.4962#010#010#010#010#010#010#010#010#010#010#010#010#010#010#010#010#010#010#010#010#010#010#010#010#010#010#010#010#010#010#010#010#010#010#010#010#010#010#010#010#010#010#010#010#010#010#010#010#010#010#010#010#010#010#010#010#010#010#010#010#010#010#010#010#010#010#010#010#010#010#010#010#010#010#010#010#010#010#010#010#010#010#01513/13 [==============================] - 0s 28ms/step - loss: 0.6932 - accuracy: 0.4974 - val_loss: 0.6928 - val_accuracy: 0.5833\u001b[0m\n",
      "\u001b[32mEpoch 5/5\u001b[0m\n",
      "\u001b[32m#015 1/13 [=>............................] - ETA: 0s - loss: 0.6930 - accuracy: 0.5312#010#010#010#010#010#010#010#010#010#010#010#010#010#010#010#010#010#010#010#010#010#010#010#010#010#010#010#010#010#010#010#010#010#010#010#010#010#010#010#010#010#010#010#010#010#010#010#010#010#010#010#010#010#010#010#010#010#010#010#010#010#010#010#010#010#010#010#010#010#010#010#010#010#010#010#010#010#010#010#010#010#010#015 4/13 [========>.....................] - ETA: 0s - loss: 0.6931 - accuracy: 0.5091#010#010#010#010#010#010#010#010#010#010#010#010#010#010#010#010#010#010#010#010#010#010#010#010#010#010#010#010#010#010#010#010#010#010#010#010#010#010#010#010#010#010#010#010#010#010#010#010#010#010#010#010#010#010#010#010#010#010#010#010#010#010#010#010#010#010#010#010#010#010#010#010#010#010#010#010#010#010#010#010#010#010#015 7/13 [===============>..............] - ETA: 0s - loss: 0.6932 - accuracy: 0.4938#010#010#010#010#010#010#010#010#010#010#010#010#010#010#010#010#010#010#010#010#010#010#010#010#010#010#010#010#010#010#010#010#010#010#010#010#010#010#010#010#010#010#010#010#010#010#010#010#010#010#010#010#010#010#010#010#010#010#010#010#010#010#010#010#010#010#010#010#010#010#010#010#010#010#010#010#010#010#010#010#010#010#01510/13 [======================>.......] - ETA: 0s - loss: 0.6932 - accuracy: 0.4941#010#010#010#010#010#010#010#010#010#010#010#010#010#010#010#010#010#010#010#010#010#010#010#010#010#010#010#010#010#010#010#010#010#010#010#010#010#010#010#010#010#010#010#010#010#010#010#010#010#010#010#010#010#010#010#010#010#010#010#010#010#010#010#010#010#010#010#010#010#010#010#010#010#010#010#010#010#010#010#010#010#010#01513/13 [==============================] - ETA: 0s - loss: 0.6932 - accuracy: 0.4969#010#010#010#010#010#010#010#010#010#010#010#010#010#010#010#010#010#010#010#010#010#010#010#010#010#010#010#010#010#010#010#010#010#010#010#010#010#010#010#010#010#010#010#010#010#010#010#010#010#010#010#010#010#010#010#010#010#010#010#010#010#010#010#010#010#010#010#010#010#010#010#010#010#010#010#010#010#010#010#010#010#010#01513/13 [==============================] - 0s 26ms/step - loss: 0.6932 - accuracy: 0.4974 - val_loss: 0.6928 - val_accuracy: 0.5833\n",
      "\u001b[0m\n",
      "\u001b[32mTrial 2 Complete [00h 00m 03s]\u001b[0m\n",
      "\u001b[32mval_loss: 0.6927566528320312\n",
      "\u001b[0m\n",
      "\u001b[32mBest val_loss So Far: 0.692719578742981\u001b[0m\n",
      "\u001b[32mTotal elapsed time: 00h 00m 07s\u001b[0m\n",
      "\u001b[34m#015 1/16 [>.............................] - ETA: 0s - loss: 0.6925 - accuracy: 0.5312#010#010#010#010#010#010#010#010#010#010#010#010#010#010#010#010#010#010#010#010#010#010#010#010#010#010#010#010#010#010#010#010#010#010#010#010#010#010#010#010#010#010#010#010#010#010#010#010#010#010#010#010#010#010#010#010#010#010#010#010#010#010#010#010#010#010#010#010#010#010#010#010#010#010#010#010#010#010#010#010#010#010#015 7/16 [============>.................] - ETA: 0s - loss: 0.6934 - accuracy: 0.4938#010#010#010#010#010#010#010#010#010#010#010#010#010#010#010#010#010#010#010#010#010#010#010#010#010#010#010#010#010#010#010#010#010#010#010#010#010#010#010#010#010#010#010#010#010#010#010#010#010#010#010#010#010#010#010#010#010#010#010#010#010#010#010#010#010#010#010#010#010#010#010#010#010#010#010#010#010#010#010#010#010#010#01513/16 [=======================>......] - ETA: 0s - loss: 0.6933 - accuracy: 0.4969#010#010#010#010#010#010#010#010#010#010#010#010#010#010#010#010#010#010#010#010#010#010#010#010#010#010#010#010#010#010#010#010#010#010#010#010#010#010#010#010#010#010#010#010#010#010#010#010#010#010#010#010#010#010#010#010#010#010#010#010#010#010#010#010#010#010#010#010#010#010#010#010#010#010#010#010#010#010#010#010#010#010#01516/16 [==============================] - 0s 9ms/step - loss: 0.6932 - accuracy: 0.5021\u001b[0m\n",
      "\u001b[34m2021-03-22 15:42:26.746038: W tensorflow/python/util/util.cc:348] Sets are not currently considered sequences, but this may change in the future, so consider avoiding using them.\u001b[0m\n",
      "\u001b[32mEpoch 1/5\u001b[0m\n",
      "\u001b[35mEpoch 4/5\u001b[0m\n",
      "\u001b[35m#015 1/13 [=>............................] - ETA: 0s - loss: 0.6931 - accuracy: 0.5312#010#010#010#010#010#010#010#010#010#010#010#010#010#010#010#010#010#010#010#010#010#010#010#010#010#010#010#010#010#010#010#010#010#010#010#010#010#010#010#010#010#010#010#010#010#010#010#010#010#010#010#010#010#010#010#010#010#010#010#010#010#010#010#010#010#010#010#010#010#010#010#010#010#010#010#010#010#010#010#010#010#010#015 8/13 [=================>............] - ETA: 0s - loss: 0.6931 - accuracy: 0.4902#010#010#010#010#010#010#010#010#010#010#010#010#010#010#010#010#010#010#010#010#010#010#010#010#010#010#010#010#010#010#010#010#010#010#010#010#010#010#010#010#010#010#010#010#010#010#010#010#010#010#010#010#010#010#010#010#010#010#010#010#010#010#010#010#010#010#010#010#010#010#010#010#010#010#010#010#010#010#010#010#010#010#01513/13 [==============================] - ETA: 0s - loss: 0.6931 - accuracy: 0.4954#010#010#010#010#010#010#010#010#010#010#010#010#010#010#010#010#010#010#010#010#010#010#010#010#010#010#010#010#010#010#010#010#010#010#010#010#010#010#010#010#010#010#010#010#010#010#010#010#010#010#010#010#010#010#010#010#010#010#010#010#010#010#010#010#010#010#010#010#010#010#010#010#010#010#010#010#010#010#010#010#010#010#01513/13 [==============================] - 0s 13ms/step - loss: 0.6931 - accuracy: 0.4960 - val_loss: 0.6931 - val_accuracy: 0.5833\u001b[0m\n",
      "\u001b[35mEpoch 5/5\u001b[0m\n",
      "\u001b[35m#015 1/13 [=>............................] - ETA: 0s - loss: 0.6931 - accuracy: 0.5312#010#010#010#010#010#010#010#010#010#010#010#010#010#010#010#010#010#010#010#010#010#010#010#010#010#010#010#010#010#010#010#010#010#010#010#010#010#010#010#010#010#010#010#010#010#010#010#010#010#010#010#010#010#010#010#010#010#010#010#010#010#010#010#010#010#010#010#010#010#010#010#010#010#010#010#010#010#010#010#010#010#010#015 8/13 [=================>............] - ETA: 0s - loss: 0.6931 - accuracy: 0.4927#010#010#010#010#010#010#010#010#010#010#010#010#010#010#010#010#010#010#010#010#010#010#010#010#010#010#010#010#010#010#010#010#010#010#010#010#010#010#010#010#010#010#010#010#010#010#010#010#010#010#010#010#010#010#010#010#010#010#010#010#010#010#010#010#010#010#010#010#010#010#010#010#010#010#010#010#010#010#010#010#010#010#01513/13 [==============================] - 0s 11ms/step - loss: 0.6931 - accuracy: 0.4974 - val_loss: 0.6931 - val_accuracy: 0.5833\n",
      "\u001b[0m\n",
      "\u001b[35mTrial 2 Complete [00h 00m 02s]\u001b[0m\n",
      "\u001b[35mval_loss: 0.6931202411651611\n",
      "\u001b[0m\n",
      "\u001b[35mBest val_loss So Far: 0.69273841381073\u001b[0m\n",
      "\u001b[35mTotal elapsed time: 00h 00m 05s\u001b[0m\n",
      "\u001b[35mEpoch 1/5\u001b[0m\n",
      "\u001b[32m#015 1/16 [>.............................] - ETA: 12s - loss: 0.6931 - accuracy: 0.5000#010#010#010#010#010#010#010#010#010#010#010#010#010#010#010#010#010#010#010#010#010#010#010#010#010#010#010#010#010#010#010#010#010#010#010#010#010#010#010#010#010#010#010#010#010#010#010#010#010#010#010#010#010#010#010#010#010#010#010#010#010#010#010#010#010#010#010#010#010#010#010#010#010#010#010#010#010#010#010#010#010#010#010#015 4/16 [======>.......................] - ETA: 0s - loss: 0.6932 - accuracy: 0.4928 #010#010#010#010#010#010#010#010#010#010#010#010#010#010#010#010#010#010#010#010#010#010#010#010#010#010#010#010#010#010#010#010#010#010#010#010#010#010#010#010#010#010#010#010#010#010#010#010#010#010#010#010#010#010#010#010#010#010#010#010#010#010#010#010#010#010#010#010#010#010#010#010#010#010#010#010#010#010#010#010#010#010#015 7/16 [============>.................] - ETA: 0s - loss: 0.6932 - accuracy: 0.4823#010#010#010#010#010#010#010#010#010#010#010#010#010#010#010#010#010#010#010#010#010#010#010#010#010#010#010#010#010#010#010#010#010#010#010#010#010#010#010#010#010#010#010#010#010#010#010#010#010#010#010#010#010#010#010#010#010#010#010#010#010#010#010#010#010#010#010#010#010#010#010#010#010#010#010#010#010#010#010#010#010#010#015 9/16 [===============>..............] - ETA: 0s - loss: 0.6932 - accuracy: 0.4793#010#010#010#010#010#010#010#010#010#010#010#010#010#010#010#010#010#010#010#010#010#010#010#010#010#010#010#010#010#010#010#010#010#010#010#010#010#010#010#010#010#010#010#010#010#010#010#010#010#010#010#010#010#010#010#010#010#010#010#010#010#010#010#010#010#010#010#010#010#010#010#010#010#010#010#010#010#010#010#010#010#010#01512/16 [=====================>........] - ETA: 0s - loss: 0.6932 - accuracy: 0.4752#010#010#010#010#010#010#010#010#010#010#010#010#010#010#010#010#010#010#010#010#010#010#010#010#010#010#010#010#010#010#010#010#010#010#010#010#010#010#010#010#010#010#010#010#010#010#010#010#010#010#010#010#010#010#010#010#010#010#010#010#010#010#010#010#010#010#010#010#010#010#010#010#010#010#010#010#010#010#010#010#010#010#01515/16 [===========================>..] - ETA: 0s - loss: 0.6932 - accuracy: 0.4779#010#010#010#010#010#010#010#010#010#010#010#010#010#010#010#010#010#010#010#010#010#010#010#010#010#010#010#010#010#010#010#010#010#010#010#010#010#010#010#010#010#010#010#010#010#010#010#010#010#010#010#010#010#010#010#010#010#010#010#010#010#010#010#010#010#010#010#010#010#010#010#010#010#010#010#010#010#010#010#010#010#010#01516/16 [==============================] - 1s 24ms/step - loss: 0.6932 - accuracy: 0.4798\u001b[0m\n",
      "\u001b[32mEpoch 2/5\u001b[0m\n",
      "\u001b[32m#015 1/16 [>.............................] - ETA: 0s - loss: 0.6930 - accuracy: 0.5312#010#010#010#010#010#010#010#010#010#010#010#010#010#010#010#010#010#010#010#010#010#010#010#010#010#010#010#010#010#010#010#010#010#010#010#010#010#010#010#010#010#010#010#010#010#010#010#010#010#010#010#010#010#010#010#010#010#010#010#010#010#010#010#010#010#010#010#010#010#010#010#010#010#010#010#010#010#010#010#010#010#010#015 4/16 [======>.......................] - ETA: 0s - loss: 0.6931 - accuracy: 0.5091#010#010#010#010#010#010#010#010#010#010#010#010#010#010#010#010#010#010#010#010#010#010#010#010#010#010#010#010#010#010#010#010#010#010#010#010#010#010#010#010#010#010#010#010#010#010#010#010#010#010#010#010#010#010#010#010#010#010#010#010#010#010#010#010#010#010#010#010#010#010#010#010#010#010#010#010#010#010#010#010#010#010#015 7/16 [============>.................] - ETA: 0s - loss: 0.6932 - accuracy: 0.4938#010#010#010#010#010#010#010#010#010#010#010#010#010#010#010#010#010#010#010#010#010#010#010#010#010#010#010#010#010#010#010#010#010#010#010#010#010#010#010#010#010#010#010#010#010#010#010#010#010#010#010#010#010#010#010#010#010#010#010#010#010#010#010#010#010#010#010#010#010#010#010#010#010#010#010#010#010#010#010#010#010#010#01510/16 [=================>............] - ETA: 0s - loss: 0.6932 - accuracy: 0.4941#010#010#010#010#010#010#010#010#010#010#010#010#010#010#010#010#010#010#010#010#010#010#010#010#010#010#010#010#010#010#010#010#010#010#010#010#010#010#010#010#010#010#010#010#010#010#010#010#010#010#010#010#010#010#010#010#010#010#010#010#010#010#010#010#010#010#010#010#010#010#010#010#010#010#010#010#010#010#010#010#010#010#01513/16 [=======================>......] - ETA: 0s - loss: 0.6932 - accuracy: 0.4969#010#010#010#010#010#010#010#010#010#010#010#010#010#010#010#010#010#010#010#010#010#010#010#010#010#010#010#010#010#010#010#010#010#010#010#010#010#010#010#010#010#010#010#010#010#010#010#010#010#010#010#010#010#010#010#010#010#010#010#010#010#010#010#010#010#010#010#010#010#010#010#010#010#010#010#010#010#010#010#010#010#010#01516/16 [==============================] - ETA: 0s - loss: 0.6932 - accuracy: 0.5011#010#010#010#010#010#010#010#010#010#010#010#010#010#010#010#010#010#010#010#010#010#010#010#010#010#010#010#010#010#010#010#010#010#010#010#010#010#010#010#010#010#010#010#010#010#010#010#010#010#010#010#010#010#010#010#010#010#010#010#010#010#010#010#010#010#010#010#010#010#010#010#010#010#010#010#010#010#010#010#010#010#010#01516/16 [==============================] - 0s 23ms/step - loss: 0.6931 - accuracy: 0.5021\u001b[0m\n",
      "\u001b[32mEpoch 3/5\u001b[0m\n",
      "\u001b[35m#015 1/16 [>.............................] - ETA: 11s - loss: 0.6932 - accuracy: 0.4688#010#010#010#010#010#010#010#010#010#010#010#010#010#010#010#010#010#010#010#010#010#010#010#010#010#010#010#010#010#010#010#010#010#010#010#010#010#010#010#010#010#010#010#010#010#010#010#010#010#010#010#010#010#010#010#010#010#010#010#010#010#010#010#010#010#010#010#010#010#010#010#010#010#010#010#010#010#010#010#010#010#010#010#015 4/16 [======>.......................] - ETA: 0s - loss: 0.6932 - accuracy: 0.4766 #010#010#010#010#010#010#010#010#010#010#010#010#010#010#010#010#010#010#010#010#010#010#010#010#010#010#010#010#010#010#010#010#010#010#010#010#010#010#010#010#010#010#010#010#010#010#010#010#010#010#010#010#010#010#010#010#010#010#010#010#010#010#010#010#010#010#010#010#010#010#010#010#010#010#010#010#010#010#010#010#010#010#015 7/16 [============>.................] - ETA: 0s - loss: 0.6933 - accuracy: 0.4700#010#010#010#010#010#010#010#010#010#010#010#010#010#010#010#010#010#010#010#010#010#010#010#010#010#010#010#010#010#010#010#010#010#010#010#010#010#010#010#010#010#010#010#010#010#010#010#010#010#010#010#010#010#010#010#010#010#010#010#010#010#010#010#010#010#010#010#010#010#010#010#010#010#010#010#010#010#010#010#010#010#010#01510/16 [=================>............] - ETA: 0s - loss: 0.6933 - accuracy: 0.4670#010#010#010#010#010#010#010#010#010#010#010#010#010#010#010#010#010#010#010#010#010#010#010#010#010#010#010#010#010#010#010#010#010#010#010#010#010#010#010#010#010#010#010#010#010#010#010#010#010#010#010#010#010#010#010#010#010#010#010#010#010#010#010#010#010#010#010#010#010#010#010#010#010#010#010#010#010#010#010#010#010#010#01513/16 [=======================>......] - ETA: 0s - loss: 0.6933 - accuracy: 0.4650#010#010#010#010#010#010#010#010#010#010#010#010#010#010#010#010#010#010#010#010#010#010#010#010#010#010#010#010#010#010#010#010#010#010#010#010#010#010#010#010#010#010#010#010#010#010#010#010#010#010#010#010#010#010#010#010#010#010#010#010#010#010#010#010#010#010#010#010#010#010#010#010#010#010#010#010#010#010#010#010#010#010#01516/16 [==============================] - ETA: 0s - loss: 0.6933 - accuracy: 0.4677#010#010#010#010#010#010#010#010#010#010#010#010#010#010#010#010#010#010#010#010#010#010#010#010#010#010#010#010#010#010#010#010#010#010#010#010#010#010#010#010#010#010#010#010#010#010#010#010#010#010#010#010#010#010#010#010#010#010#010#010#010#010#010#010#010#010#010#010#010#010#010#010#010#010#010#010#010#010#010#010#010#010#01516/16 [==============================] - 1s 18ms/step - loss: 0.6933 - accuracy: 0.4684\u001b[0m\n",
      "\u001b[35mEpoch 2/5\u001b[0m\n",
      "\u001b[32m#015 1/16 [>.............................] - ETA: 0s - loss: 0.6928 - accuracy: 0.5312#010#010#010#010#010#010#010#010#010#010#010#010#010#010#010#010#010#010#010#010#010#010#010#010#010#010#010#010#010#010#010#010#010#010#010#010#010#010#010#010#010#010#010#010#010#010#010#010#010#010#010#010#010#010#010#010#010#010#010#010#010#010#010#010#010#010#010#010#010#010#010#010#010#010#010#010#010#010#010#010#010#010#015 4/16 [======>.......................] - ETA: 0s - loss: 0.6931 - accuracy: 0.5091#010#010#010#010#010#010#010#010#010#010#010#010#010#010#010#010#010#010#010#010#010#010#010#010#010#010#010#010#010#010#010#010#010#010#010#010#010#010#010#010#010#010#010#010#010#010#010#010#010#010#010#010#010#010#010#010#010#010#010#010#010#010#010#010#010#010#010#010#010#010#010#010#010#010#010#010#010#010#010#010#010#010#015 7/16 [============>.................] - ETA: 0s - loss: 0.6933 - accuracy: 0.4938#010#010#010#010#010#010#010#010#010#010#010#010#010#010#010#010#010#010#010#010#010#010#010#010#010#010#010#010#010#010#010#010#010#010#010#010#010#010#010#010#010#010#010#010#010#010#010#010#010#010#010#010#010#010#010#010#010#010#010#010#010#010#010#010#010#010#010#010#010#010#010#010#010#010#010#010#010#010#010#010#010#010#01510/16 [=================>............] - ETA: 0s - loss: 0.6933 - accuracy: 0.4941#010#010#010#010#010#010#010#010#010#010#010#010#010#010#010#010#010#010#010#010#010#010#010#010#010#010#010#010#010#010#010#010#010#010#010#010#010#010#010#010#010#010#010#010#010#010#010#010#010#010#010#010#010#010#010#010#010#010#010#010#010#010#010#010#010#010#010#010#010#010#010#010#010#010#010#010#010#010#010#010#010#010#01513/16 [=======================>......] - ETA: 0s - loss: 0.6932 - accuracy: 0.4969#010#010#010#010#010#010#010#010#010#010#010#010#010#010#010#010#010#010#010#010#010#010#010#010#010#010#010#010#010#010#010#010#010#010#010#010#010#010#010#010#010#010#010#010#010#010#010#010#010#010#010#010#010#010#010#010#010#010#010#010#010#010#010#010#010#010#010#010#010#010#010#010#010#010#010#010#010#010#010#010#010#010#01516/16 [==============================] - ETA: 0s - loss: 0.6932 - accuracy: 0.5011#010#010#010#010#010#010#010#010#010#010#010#010#010#010#010#010#010#010#010#010#010#010#010#010#010#010#010#010#010#010#010#010#010#010#010#010#010#010#010#010#010#010#010#010#010#010#010#010#010#010#010#010#010#010#010#010#010#010#010#010#010#010#010#010#010#010#010#010#010#010#010#010#010#010#010#010#010#010#010#010#010#010#01516/16 [==============================] - 0s 22ms/step - loss: 0.6931 - accuracy: 0.5021\u001b[0m\n",
      "\u001b[32mEpoch 4/5\u001b[0m\n",
      "\u001b[32m#015 1/16 [>.............................] - ETA: 0s - loss: 0.6927 - accuracy: 0.5312#010#010#010#010#010#010#010#010#010#010#010#010#010#010#010#010#010#010#010#010#010#010#010#010#010#010#010#010#010#010#010#010#010#010#010#010#010#010#010#010#010#010#010#010#010#010#010#010#010#010#010#010#010#010#010#010#010#010#010#010#010#010#010#010#010#010#010#010#010#010#010#010#010#010#010#010#010#010#010#010#010#010#015 4/16 [======>.......................] - ETA: 0s - loss: 0.6931 - accuracy: 0.5091#010#010#010#010#010#010#010#010#010#010#010#010#010#010#010#010#010#010#010#010#010#010#010#010#010#010#010#010#010#010#010#010#010#010#010#010#010#010#010#010#010#010#010#010#010#010#010#010#010#010#010#010#010#010#010#010#010#010#010#010#010#010#010#010#010#010#010#010#010#010#010#010#010#010#010#010#010#010#010#010#010#010#015 7/16 [============>.................] - ETA: 0s - loss: 0.6933 - accuracy: 0.4938#010#010#010#010#010#010#010#010#010#010#010#010#010#010#010#010#010#010#010#010#010#010#010#010#010#010#010#010#010#010#010#010#010#010#010#010#010#010#010#010#010#010#010#010#010#010#010#010#010#010#010#010#010#010#010#010#010#010#010#010#010#010#010#010#010#010#010#010#010#010#010#010#010#010#010#010#010#010#010#010#010#010#01510/16 [=================>............] - ETA: 0s - loss: 0.6933 - accuracy: 0.4941#010#010#010#010#010#010#010#010#010#010#010#010#010#010#010#010#010#010#010#010#010#010#010#010#010#010#010#010#010#010#010#010#010#010#010#010#010#010#010#010#010#010#010#010#010#010#010#010#010#010#010#010#010#010#010#010#010#010#010#010#010#010#010#010#010#010#010#010#010#010#010#010#010#010#010#010#010#010#010#010#010#010#01513/16 [=======================>......] - ETA: 0s - loss: 0.6933 - accuracy: 0.4969#010#010#010#010#010#010#010#010#010#010#010#010#010#010#010#010#010#010#010#010#010#010#010#010#010#010#010#010#010#010#010#010#010#010#010#010#010#010#010#010#010#010#010#010#010#010#010#010#010#010#010#010#010#010#010#010#010#010#010#010#010#010#010#010#010#010#010#010#010#010#010#010#010#010#010#010#010#010#010#010#010#010#01516/16 [==============================] - ETA: 0s - loss: 0.6932 - accuracy: 0.5011#010#010#010#010#010#010#010#010#010#010#010#010#010#010#010#010#010#010#010#010#010#010#010#010#010#010#010#010#010#010#010#010#010#010#010#010#010#010#010#010#010#010#010#010#010#010#010#010#010#010#010#010#010#010#010#010#010#010#010#010#010#010#010#010#010#010#010#010#010#010#010#010#010#010#010#010#010#010#010#010#010#010#01516/16 [==============================] - 0s 22ms/step - loss: 0.6932 - accuracy: 0.5021\u001b[0m\n",
      "\u001b[32mEpoch 5/5\u001b[0m\n",
      "\u001b[32m#015 1/16 [>.............................] - ETA: 0s - loss: 0.6925 - accuracy: 0.5312#010#010#010#010#010#010#010#010#010#010#010#010#010#010#010#010#010#010#010#010#010#010#010#010#010#010#010#010#010#010#010#010#010#010#010#010#010#010#010#010#010#010#010#010#010#010#010#010#010#010#010#010#010#010#010#010#010#010#010#010#010#010#010#010#010#010#010#010#010#010#010#010#010#010#010#010#010#010#010#010#010#010#015 4/16 [======>.......................] - ETA: 0s - loss: 0.6930 - accuracy: 0.5091#010#010#010#010#010#010#010#010#010#010#010#010#010#010#010#010#010#010#010#010#010#010#010#010#010#010#010#010#010#010#010#010#010#010#010#010#010#010#010#010#010#010#010#010#010#010#010#010#010#010#010#010#010#010#010#010#010#010#010#010#010#010#010#010#010#010#010#010#010#010#010#010#010#010#010#010#010#010#010#010#010#010#015 7/16 [============>.................] - ETA: 0s - loss: 0.6934 - accuracy: 0.4938#010#010#010#010#010#010#010#010#010#010#010#010#010#010#010#010#010#010#010#010#010#010#010#010#010#010#010#010#010#010#010#010#010#010#010#010#010#010#010#010#010#010#010#010#010#010#010#010#010#010#010#010#010#010#010#010#010#010#010#010#010#010#010#010#010#010#010#010#010#010#010#010#010#010#010#010#010#010#010#010#010#010#01510/16 [=================>............] - ETA: 0s - loss: 0.6934 - accuracy: 0.4941#010#010#010#010#010#010#010#010#010#010#010#010#010#010#010#010#010#010#010#010#010#010#010#010#010#010#010#010#010#010#010#010#010#010#010#010#010#010#010#010#010#010#010#010#010#010#010#010#010#010#010#010#010#010#010#010#010#010#010#010#010#010#010#010#010#010#010#010#010#010#010#010#010#010#010#010#010#010#010#010#010#010#01513/16 [=======================>......] - ETA: 0s - loss: 0.6933 - accuracy: 0.4969#010#010#010#010#010#010#010#010#010#010#010#010#010#010#010#010#010#010#010#010#010#010#010#010#010#010#010#010#010#010#010#010#010#010#010#010#010#010#010#010#010#010#010#010#010#010#010#010#010#010#010#010#010#010#010#010#010#010#010#010#010#010#010#010#010#010#010#010#010#010#010#010#010#010#010#010#010#010#010#010#010#010#01516/16 [==============================] - ETA: 0s - loss: 0.6932 - accuracy: 0.5011#010#010#010#010#010#010#010#010#010#010#010#010#010#010#010#010#010#010#010#010#010#010#010#010#010#010#010#010#010#010#010#010#010#010#010#010#010#010#010#010#010#010#010#010#010#010#010#010#010#010#010#010#010#010#010#010#010#010#010#010#010#010#010#010#010#010#010#010#010#010#010#010#010#010#010#010#010#010#010#010#010#010#01516/16 [==============================] - 0s 23ms/step - loss: 0.6932 - accuracy: 0.5021\u001b[0m\n",
      "\u001b[34mtraining completed\u001b[0m\n",
      "\u001b[35m#015 1/16 [>.............................] - ETA: 0s - loss: 0.6931 - accuracy: 0.5312#010#010#010#010#010#010#010#010#010#010#010#010#010#010#010#010#010#010#010#010#010#010#010#010#010#010#010#010#010#010#010#010#010#010#010#010#010#010#010#010#010#010#010#010#010#010#010#010#010#010#010#010#010#010#010#010#010#010#010#010#010#010#010#010#010#010#010#010#010#010#010#010#010#010#010#010#010#010#010#010#010#010#015 5/16 [========>.....................] - ETA: 0s - loss: 0.6932 - accuracy: 0.5010#010#010#010#010#010#010#010#010#010#010#010#010#010#010#010#010#010#010#010#010#010#010#010#010#010#010#010#010#010#010#010#010#010#010#010#010#010#010#010#010#010#010#010#010#010#010#010#010#010#010#010#010#010#010#010#010#010#010#010#010#010#010#010#010#010#010#010#010#010#010#010#010#010#010#010#010#010#010#010#010#010#010#015 9/16 [===============>..............] - ETA: 0s - loss: 0.6932 - accuracy: 0.4931#010#010#010#010#010#010#010#010#010#010#010#010#010#010#010#010#010#010#010#010#010#010#010#010#010#010#010#010#010#010#010#010#010#010#010#010#010#010#010#010#010#010#010#010#010#010#010#010#010#010#010#010#010#010#010#010#010#010#010#010#010#010#010#010#010#010#010#010#010#010#010#010#010#010#010#010#010#010#010#010#010#010#01512/16 [=====================>........] - ETA: 0s - loss: 0.6932 - accuracy: 0.4962#010#010#010#010#010#010#010#010#010#010#010#010#010#010#010#010#010#010#010#010#010#010#010#010#010#010#010#010#010#010#010#010#010#010#010#010#010#010#010#010#010#010#010#010#010#010#010#010#010#010#010#010#010#010#010#010#010#010#010#010#010#010#010#010#010#010#010#010#010#010#010#010#010#010#010#010#010#010#010#010#010#010#01516/16 [==============================] - ETA: 0s - loss: 0.6932 - accuracy: 0.5011#010#010#010#010#010#010#010#010#010#010#010#010#010#010#010#010#010#010#010#010#010#010#010#010#010#010#010#010#010#010#010#010#010#010#010#010#010#010#010#010#010#010#010#010#010#010#010#010#010#010#010#010#010#010#010#010#010#010#010#010#010#010#010#010#010#010#010#010#010#010#010#010#010#010#010#010#010#010#010#010#010#010#01516/16 [==============================] - 0s 17ms/step - loss: 0.6931 - accuracy: 0.5021\u001b[0m\n",
      "\u001b[35mEpoch 3/5\u001b[0m\n",
      "\u001b[35m#015 1/16 [>.............................] - ETA: 0s - loss: 0.6929 - accuracy: 0.5312#010#010#010#010#010#010#010#010#010#010#010#010#010#010#010#010#010#010#010#010#010#010#010#010#010#010#010#010#010#010#010#010#010#010#010#010#010#010#010#010#010#010#010#010#010#010#010#010#010#010#010#010#010#010#010#010#010#010#010#010#010#010#010#010#010#010#010#010#010#010#010#010#010#010#010#010#010#010#010#010#010#010#015 4/16 [======>.......................] - ETA: 0s - loss: 0.6931 - accuracy: 0.5091#010#010#010#010#010#010#010#010#010#010#010#010#010#010#010#010#010#010#010#010#010#010#010#010#010#010#010#010#010#010#010#010#010#010#010#010#010#010#010#010#010#010#010#010#010#010#010#010#010#010#010#010#010#010#010#010#010#010#010#010#010#010#010#010#010#010#010#010#010#010#010#010#010#010#010#010#010#010#010#010#010#010#015 8/16 [==============>...............] - ETA: 0s - loss: 0.6932 - accuracy: 0.4927#010#010#010#010#010#010#010#010#010#010#010#010#010#010#010#010#010#010#010#010#010#010#010#010#010#010#010#010#010#010#010#010#010#010#010#010#010#010#010#010#010#010#010#010#010#010#010#010#010#010#010#010#010#010#010#010#010#010#010#010#010#010#010#010#010#010#010#010#010#010#010#010#010#010#010#010#010#010#010#010#010#010#01511/16 [===================>..........] - ETA: 0s - loss: 0.6932 - accuracy: 0.4951#010#010#010#010#010#010#010#010#010#010#010#010#010#010#010#010#010#010#010#010#010#010#010#010#010#010#010#010#010#010#010#010#010#010#010#010#010#010#010#010#010#010#010#010#010#010#010#010#010#010#010#010#010#010#010#010#010#010#010#010#010#010#010#010#010#010#010#010#010#010#010#010#010#010#010#010#010#010#010#010#010#010#01514/16 [=========================>....] - ETA: 0s - loss: 0.6932 - accuracy: 0.4985#010#010#010#010#010#010#010#010#010#010#010#010#010#010#010#010#010#010#010#010#010#010#010#010#010#010#010#010#010#010#010#010#010#010#010#010#010#010#010#010#010#010#010#010#010#010#010#010#010#010#010#010#010#010#010#010#010#010#010#010#010#010#010#010#010#010#010#010#010#010#010#010#010#010#010#010#010#010#010#010#010#010#01516/16 [==============================] - 0s 17ms/step - loss: 0.6931 - accuracy: 0.5021\u001b[0m\n",
      "\u001b[35mEpoch 4/5\u001b[0m\n",
      "\u001b[35m#015 1/16 [>.............................] - ETA: 0s - loss: 0.6927 - accuracy: 0.5312#010#010#010#010#010#010#010#010#010#010#010#010#010#010#010#010#010#010#010#010#010#010#010#010#010#010#010#010#010#010#010#010#010#010#010#010#010#010#010#010#010#010#010#010#010#010#010#010#010#010#010#010#010#010#010#010#010#010#010#010#010#010#010#010#010#010#010#010#010#010#010#010#010#010#010#010#010#010#010#010#010#010#015 5/16 [========>.....................] - ETA: 0s - loss: 0.6932 - accuracy: 0.5010#010#010#010#010#010#010#010#010#010#010#010#010#010#010#010#010#010#010#010#010#010#010#010#010#010#010#010#010#010#010#010#010#010#010#010#010#010#010#010#010#010#010#010#010#010#010#010#010#010#010#010#010#010#010#010#010#010#010#010#010#010#010#010#010#010#010#010#010#010#010#010#010#010#010#010#010#010#010#010#010#010#010#015 9/16 [===============>..............] - ETA: 0s - loss: 0.6933 - accuracy: 0.4931#010#010#010#010#010#010#010#010#010#010#010#010#010#010#010#010#010#010#010#010#010#010#010#010#010#010#010#010#010#010#010#010#010#010#010#010#010#010#010#010#010#010#010#010#010#010#010#010#010#010#010#010#010#010#010#010#010#010#010#010#010#010#010#010#010#010#010#010#010#010#010#010#010#010#010#010#010#010#010#010#010#010#01513/16 [=======================>......] - ETA: 0s - loss: 0.6933 - accuracy: 0.4969#010#010#010#010#010#010#010#010#010#010#010#010#010#010#010#010#010#010#010#010#010#010#010#010#010#010#010#010#010#010#010#010#010#010#010#010#010#010#010#010#010#010#010#010#010#010#010#010#010#010#010#010#010#010#010#010#010#010#010#010#010#010#010#010#010#010#010#010#010#010#010#010#010#010#010#010#010#010#010#010#010#010#01516/16 [==============================] - ETA: 0s - loss: 0.6932 - accuracy: 0.5011#010#010#010#010#010#010#010#010#010#010#010#010#010#010#010#010#010#010#010#010#010#010#010#010#010#010#010#010#010#010#010#010#010#010#010#010#010#010#010#010#010#010#010#010#010#010#010#010#010#010#010#010#010#010#010#010#010#010#010#010#010#010#010#010#010#010#010#010#010#010#010#010#010#010#010#010#010#010#010#010#010#010#01516/16 [==============================] - 0s 17ms/step - loss: 0.6932 - accuracy: 0.5021\u001b[0m\n",
      "\u001b[35mEpoch 5/5\u001b[0m\n",
      "\u001b[32m2021-03-22 15:42:30.441036: W tensorflow/python/util/util.cc:348] Sets are not currently considered sequences, but this may change in the future, so consider avoiding using them.\u001b[0m\n",
      "\u001b[35m#015 1/16 [>.............................] - ETA: 0s - loss: 0.6925 - accuracy: 0.5312#010#010#010#010#010#010#010#010#010#010#010#010#010#010#010#010#010#010#010#010#010#010#010#010#010#010#010#010#010#010#010#010#010#010#010#010#010#010#010#010#010#010#010#010#010#010#010#010#010#010#010#010#010#010#010#010#010#010#010#010#010#010#010#010#010#010#010#010#010#010#010#010#010#010#010#010#010#010#010#010#010#010#015 4/16 [======>.......................] - ETA: 0s - loss: 0.6930 - accuracy: 0.5091#010#010#010#010#010#010#010#010#010#010#010#010#010#010#010#010#010#010#010#010#010#010#010#010#010#010#010#010#010#010#010#010#010#010#010#010#010#010#010#010#010#010#010#010#010#010#010#010#010#010#010#010#010#010#010#010#010#010#010#010#010#010#010#010#010#010#010#010#010#010#010#010#010#010#010#010#010#010#010#010#010#010#015 7/16 [============>.................] - ETA: 0s - loss: 0.6934 - accuracy: 0.4938#010#010#010#010#010#010#010#010#010#010#010#010#010#010#010#010#010#010#010#010#010#010#010#010#010#010#010#010#010#010#010#010#010#010#010#010#010#010#010#010#010#010#010#010#010#010#010#010#010#010#010#010#010#010#010#010#010#010#010#010#010#010#010#010#010#010#010#010#010#010#010#010#010#010#010#010#010#010#010#010#010#010#01511/16 [===================>..........] - ETA: 0s - loss: 0.6934 - accuracy: 0.4951#010#010#010#010#010#010#010#010#010#010#010#010#010#010#010#010#010#010#010#010#010#010#010#010#010#010#010#010#010#010#010#010#010#010#010#010#010#010#010#010#010#010#010#010#010#010#010#010#010#010#010#010#010#010#010#010#010#010#010#010#010#010#010#010#010#010#010#010#010#010#010#010#010#010#010#010#010#010#010#010#010#010#01515/16 [===========================>..] - ETA: 0s - loss: 0.6932 - accuracy: 0.5000#010#010#010#010#010#010#010#010#010#010#010#010#010#010#010#010#010#010#010#010#010#010#010#010#010#010#010#010#010#010#010#010#010#010#010#010#010#010#010#010#010#010#010#010#010#010#010#010#010#010#010#010#010#010#010#010#010#010#010#010#010#010#010#010#010#010#010#010#010#010#010#010#010#010#010#010#010#010#010#010#010#010#01516/16 [==============================] - 0s 17ms/step - loss: 0.6932 - accuracy: 0.5021\u001b[0m\n",
      "\u001b[35m2021-03-22 15:42:31.195425: W tensorflow/python/util/util.cc:348] Sets are not currently considered sequences, but this may change in the future, so consider avoiding using them.\u001b[0m\n",
      "\u001b[32mtraining completed\u001b[0m\n",
      "\u001b[35mtraining completed\u001b[0m\n",
      "\n",
      "2021-03-22 15:42:47 Uploading - Uploading generated training model\n",
      "2021-03-22 15:42:47 Completed - Training job completed\n",
      "Training seconds: 360\n",
      "Billable seconds: 360\n"
     ]
    }
   ],
   "source": [
    "account = sess.boto_session.client('sts').get_caller_identity()['Account']\n",
    "region = sess.boto_session.region_name\n",
    "image = '{}.dkr.ecr.{}.amazonaws.com/text-classifier-final:latest'.format(account, region)\n",
    "tree = sage.estimator.Estimator(image,\n",
    "                       role, 3, 'ml.c4.2xlarge',\n",
    "                      output_path=\"s3://{}/output\".format(sess.default_bucket()),\n",
    "                       sagemaker_session=sess)\n",
    "\n",
    "tree.fit(data_location)\n"
   ]
  },
  {
   "cell_type": "markdown",
   "metadata": {},
   "source": [
    "## Hosting your model\n",
    "You can use a trained model to get real time predictions using HTTP endpoint. Follow these steps to walk you through the process.\n"
   ]
  },
  {
   "cell_type": "code",
   "execution_count": 53,
   "metadata": {},
   "outputs": [
    {
     "name": "stdout",
     "output_type": "stream",
     "text": [
      "\n",
      "2021-03-22 15:42:54 Starting - Preparing the instances for training\n",
      "2021-03-22 15:42:54 Downloading - Downloading input data\n",
      "2021-03-22 15:42:54 Training - Training image download completed. Training in progress.\n",
      "2021-03-22 15:42:54 Uploading - Uploading generated training model\n",
      "2021-03-22 15:42:54 Completed - Training job completed\n"
     ]
    }
   ],
   "source": [
    "training_job_name = tree.latest_training_job.name\n",
    "attached_tree = sage.estimator.Estimator.attach(training_job_name)"
   ]
  },
  {
   "cell_type": "markdown",
   "metadata": {},
   "source": [
    "\n",
    "### Deploy the model\n",
    "Deploying the model to SageMaker hosting just requires a deploy call on the fitted model. This call takes an instance count, instance type, and optionally serializer and deserializer functions. These are used when the resulting predictor is created on the endpoint."
   ]
  },
  {
   "cell_type": "code",
   "execution_count": 54,
   "metadata": {},
   "outputs": [
    {
     "name": "stdout",
     "output_type": "stream",
     "text": [
      "---------------!"
     ]
    }
   ],
   "source": [
    "\n",
    "from sagemaker.predictor import csv_serializer\n",
    "predictor = attached_tree.deploy(4, 'ml.m4.xlarge', serializer=csv_serializer,endpoint_name='text-classifier')"
   ]
  },
  {
   "cell_type": "markdown",
   "metadata": {},
   "source": [
    "## Choose some data and use it for a prediction\n"
   ]
  },
  {
   "cell_type": "code",
   "execution_count": 55,
   "metadata": {},
   "outputs": [],
   "source": [
    "test_data  = 's3://mphasis-marketplace/text_classifier/input/sample_test_data.zip'\n",
    "\n",
    "\n"
   ]
  },
  {
   "cell_type": "code",
   "execution_count": 44,
   "metadata": {},
   "outputs": [
    {
     "name": "stderr",
     "output_type": "stream",
     "text": [
      "The csv_serializer has been renamed in sagemaker>=2.\n",
      "See: https://sagemaker.readthedocs.io/en/stable/v2.html for details.\n"
     ]
    }
   ],
   "source": [
    "predictions = predictor.predict(test_data)\n",
    "\n"
   ]
  },
  {
   "cell_type": "code",
   "execution_count": 45,
   "metadata": {},
   "outputs": [
    {
     "name": "stdout",
     "output_type": "stream",
     "text": [
      "b'Please send a proper format file'\n"
     ]
    }
   ],
   "source": [
    "print(predictions)"
   ]
  },
  {
   "cell_type": "markdown",
   "metadata": {},
   "source": [
    "### Output\n",
    "\n",
    "Output files contains column predicted Group, which has the predicted class"
   ]
  },
  {
   "cell_type": "code",
   "execution_count": 56,
   "metadata": {},
   "outputs": [],
   "source": [
    "transform_output_folder = \"batch-transform-output\"\n",
    "output_path=\"s3://{}/{}\".format(sess.default_bucket(), transform_output_folder)\n",
    "\n",
    "transformer = tree.transformer(instance_count=1,\n",
    "                               instance_type='ml.m4.xlarge',\n",
    "                               output_path=output_path)"
   ]
  },
  {
   "cell_type": "code",
   "execution_count": 57,
   "metadata": {},
   "outputs": [
    {
     "name": "stdout",
     "output_type": "stream",
     "text": [
      "..............................\u001b[34mStarting the inference server with 4 workers.\u001b[0m\n",
      "\u001b[34m[2021-03-22 15:58:52 +0000] [13] [INFO] Starting gunicorn 20.0.4\u001b[0m\n",
      "\u001b[34m[2021-03-22 15:58:52 +0000] [13] [INFO] Listening at: unix:/tmp/gunicorn.sock (13)\u001b[0m\n",
      "\u001b[34m[2021-03-22 15:58:52 +0000] [13] [INFO] Using worker: gevent\u001b[0m\n",
      "\u001b[34m[2021-03-22 15:58:52 +0000] [15] [INFO] Booting worker with pid: 15\u001b[0m\n",
      "\u001b[34m[2021-03-22 15:58:52 +0000] [16] [INFO] Booting worker with pid: 16\u001b[0m\n",
      "\u001b[34m[2021-03-22 15:58:52 +0000] [23] [INFO] Booting worker with pid: 23\u001b[0m\n",
      "\u001b[34m[2021-03-22 15:58:52 +0000] [24] [INFO] Booting worker with pid: 24\u001b[0m\n",
      "\u001b[34m2021-03-22 15:58:53.015301: W tensorflow/stream_executor/platform/default/dso_loader.cc:60] Could not load dynamic library 'libcudart.so.11.0'; dlerror: libcudart.so.11.0: cannot open shared object file: No such file or directory\u001b[0m\n",
      "\u001b[34m2021-03-22 15:58:53.015806: I tensorflow/stream_executor/cuda/cudart_stub.cc:29] Ignore above cudart dlerror if you do not have a GPU set up on your machine.\u001b[0m\n",
      "\u001b[34m2021-03-22 15:58:53.137845: W tensorflow/stream_executor/platform/default/dso_loader.cc:60] Could not load dynamic library 'libcudart.so.11.0'; dlerror: libcudart.so.11.0: cannot open shared object file: No such file or directory\u001b[0m\n",
      "\u001b[34m2021-03-22 15:58:53.138332: I tensorflow/stream_executor/cuda/cudart_stub.cc:29] Ignore above cudart dlerror if you do not have a GPU set up on your machine.\u001b[0m\n",
      "\u001b[34m2021-03-22 15:58:53.184275: W tensorflow/stream_executor/platform/default/dso_loader.cc:60] Could not load dynamic library 'libcudart.so.11.0'; dlerror: libcudart.so.11.0: cannot open shared object file: No such file or directory\u001b[0m\n",
      "\u001b[35mStarting the inference server with 4 workers.\u001b[0m\n",
      "\u001b[35m[2021-03-22 15:58:52 +0000] [13] [INFO] Starting gunicorn 20.0.4\u001b[0m\n",
      "\u001b[35m[2021-03-22 15:58:52 +0000] [13] [INFO] Listening at: unix:/tmp/gunicorn.sock (13)\u001b[0m\n",
      "\u001b[35m[2021-03-22 15:58:52 +0000] [13] [INFO] Using worker: gevent\u001b[0m\n",
      "\u001b[35m[2021-03-22 15:58:52 +0000] [15] [INFO] Booting worker with pid: 15\u001b[0m\n",
      "\u001b[35m[2021-03-22 15:58:52 +0000] [16] [INFO] Booting worker with pid: 16\u001b[0m\n",
      "\u001b[35m[2021-03-22 15:58:52 +0000] [23] [INFO] Booting worker with pid: 23\u001b[0m\n",
      "\u001b[35m[2021-03-22 15:58:52 +0000] [24] [INFO] Booting worker with pid: 24\u001b[0m\n",
      "\u001b[35m2021-03-22 15:58:53.015301: W tensorflow/stream_executor/platform/default/dso_loader.cc:60] Could not load dynamic library 'libcudart.so.11.0'; dlerror: libcudart.so.11.0: cannot open shared object file: No such file or directory\u001b[0m\n",
      "\u001b[35m2021-03-22 15:58:53.015806: I tensorflow/stream_executor/cuda/cudart_stub.cc:29] Ignore above cudart dlerror if you do not have a GPU set up on your machine.\u001b[0m\n",
      "\u001b[35m2021-03-22 15:58:53.137845: W tensorflow/stream_executor/platform/default/dso_loader.cc:60] Could not load dynamic library 'libcudart.so.11.0'; dlerror: libcudart.so.11.0: cannot open shared object file: No such file or directory\u001b[0m\n",
      "\u001b[35m2021-03-22 15:58:53.138332: I tensorflow/stream_executor/cuda/cudart_stub.cc:29] Ignore above cudart dlerror if you do not have a GPU set up on your machine.\u001b[0m\n",
      "\u001b[35m2021-03-22 15:58:53.184275: W tensorflow/stream_executor/platform/default/dso_loader.cc:60] Could not load dynamic library 'libcudart.so.11.0'; dlerror: libcudart.so.11.0: cannot open shared object file: No such file or directory\u001b[0m\n",
      "\u001b[34m2021-03-22 15:58:53.184326: I tensorflow/stream_executor/cuda/cudart_stub.cc:29] Ignore above cudart dlerror if you do not have a GPU set up on your machine.\u001b[0m\n",
      "\u001b[34m2021-03-22 15:58:53.249576: W tensorflow/stream_executor/platform/default/dso_loader.cc:60] Could not load dynamic library 'libcudart.so.11.0'; dlerror: libcudart.so.11.0: cannot open shared object file: No such file or directory\u001b[0m\n",
      "\u001b[34m2021-03-22 15:58:53.250031: I tensorflow/stream_executor/cuda/cudart_stub.cc:29] Ignore above cudart dlerror if you do not have a GPU set up on your machine.\u001b[0m\n",
      "\u001b[35m2021-03-22 15:58:53.184326: I tensorflow/stream_executor/cuda/cudart_stub.cc:29] Ignore above cudart dlerror if you do not have a GPU set up on your machine.\u001b[0m\n",
      "\u001b[35m2021-03-22 15:58:53.249576: W tensorflow/stream_executor/platform/default/dso_loader.cc:60] Could not load dynamic library 'libcudart.so.11.0'; dlerror: libcudart.so.11.0: cannot open shared object file: No such file or directory\u001b[0m\n",
      "\u001b[35m2021-03-22 15:58:53.250031: I tensorflow/stream_executor/cuda/cudart_stub.cc:29] Ignore above cudart dlerror if you do not have a GPU set up on your machine.\u001b[0m\n",
      "\u001b[34m2021-03-22 15:59:00.816375: I tensorflow/compiler/jit/xla_cpu_device.cc:41] Not creating XLA devices, tf_xla_enable_xla_devices not set\u001b[0m\n",
      "\u001b[34m2021-03-22 15:59:00.816856: W tensorflow/stream_executor/platform/default/dso_loader.cc:60] Could not load dynamic library 'libcuda.so.1'; dlerror: libcuda.so.1: cannot open shared object file: No such file or directory\u001b[0m\n",
      "\u001b[34m2021-03-22 15:59:00.816898: W tensorflow/stream_executor/cuda/cuda_driver.cc:326] failed call to cuInit: UNKNOWN ERROR (303)\u001b[0m\n",
      "\u001b[35m2021-03-22 15:59:00.816375: I tensorflow/compiler/jit/xla_cpu_device.cc:41] Not creating XLA devices, tf_xla_enable_xla_devices not set\u001b[0m\n",
      "\u001b[35m2021-03-22 15:59:00.816856: W tensorflow/stream_executor/platform/default/dso_loader.cc:60] Could not load dynamic library 'libcuda.so.1'; dlerror: libcuda.so.1: cannot open shared object file: No such file or directory\u001b[0m\n",
      "\u001b[35m2021-03-22 15:59:00.816898: W tensorflow/stream_executor/cuda/cuda_driver.cc:326] failed call to cuInit: UNKNOWN ERROR (303)\u001b[0m\n",
      "\u001b[34m2021-03-22 15:59:00.816974: I tensorflow/stream_executor/cuda/cuda_diagnostics.cc:156] kernel driver does not appear to be running on this host (0781c5b6aa32): /proc/driver/nvidia/version does not exist\u001b[0m\n",
      "\u001b[34m2021-03-22 15:59:00.817839: I tensorflow/compiler/jit/xla_gpu_device.cc:99] Not creating XLA devices, tf_xla_enable_xla_devices not set\u001b[0m\n",
      "\u001b[34m2021-03-22 15:59:01.557776: I tensorflow/compiler/mlir/mlir_graph_optimization_pass.cc:116] None of the MLIR optimization passes are enabled (registered 2)\u001b[0m\n",
      "\u001b[34m2021-03-22 15:59:01.558805: I tensorflow/core/platform/profile_utils/cpu_utils.cc:112] CPU Frequency: 2300035000 Hz\u001b[0m\n",
      "\u001b[34m169.254.255.130 - - [22/Mar/2021:15:59:01 +0000] \"GET /ping HTTP/1.1\" 200 1 \"-\" \"Go-http-client/1.1\"\u001b[0m\n",
      "\u001b[34m169.254.255.130 - - [22/Mar/2021:15:59:01 +0000] \"GET /execution-parameters HTTP/1.1\" 404 2 \"-\" \"Go-http-client/1.1\"\u001b[0m\n",
      "\u001b[35m2021-03-22 15:59:00.816974: I tensorflow/stream_executor/cuda/cuda_diagnostics.cc:156] kernel driver does not appear to be running on this host (0781c5b6aa32): /proc/driver/nvidia/version does not exist\u001b[0m\n",
      "\u001b[35m2021-03-22 15:59:00.817839: I tensorflow/compiler/jit/xla_gpu_device.cc:99] Not creating XLA devices, tf_xla_enable_xla_devices not set\u001b[0m\n",
      "\u001b[35m2021-03-22 15:59:01.557776: I tensorflow/compiler/mlir/mlir_graph_optimization_pass.cc:116] None of the MLIR optimization passes are enabled (registered 2)\u001b[0m\n",
      "\u001b[35m2021-03-22 15:59:01.558805: I tensorflow/core/platform/profile_utils/cpu_utils.cc:112] CPU Frequency: 2300035000 Hz\u001b[0m\n",
      "\u001b[35m169.254.255.130 - - [22/Mar/2021:15:59:01 +0000] \"GET /ping HTTP/1.1\" 200 1 \"-\" \"Go-http-client/1.1\"\u001b[0m\n",
      "\u001b[35m169.254.255.130 - - [22/Mar/2021:15:59:01 +0000] \"GET /execution-parameters HTTP/1.1\" 404 2 \"-\" \"Go-http-client/1.1\"\u001b[0m\n",
      "\u001b[32m2021-03-22T15:59:01.732:[sagemaker logs]: MaxConcurrentTransforms=1, MaxPayloadInMB=6, BatchStrategy=MULTI_RECORD\u001b[0m\n",
      "\u001b[34m2021/03/22 15:59:01 [error] 12#12: *4 readv() failed (104: Connection reset by peer) while reading upstream, client: 169.254.255.130, server: , request: \"POST /invocations HTTP/1.1\", upstream: \"http://unix:/tmp/gunicorn.sock:/invocations\", host: \"169.254.255.131:8080\"\u001b[0m\n",
      "\u001b[34m169.254.255.130 - - [22/Mar/2021:15:59:01 +0000] \"POST /invocations HTTP/1.1\" 200 32 \"-\" \"Go-http-client/1.1\"\u001b[0m\n",
      "\u001b[35m2021/03/22 15:59:01 [error] 12#12: *4 readv() failed (104: Connection reset by peer) while reading upstream, client: 169.254.255.130, server: , request: \"POST /invocations HTTP/1.1\", upstream: \"http://unix:/tmp/gunicorn.sock:/invocations\", host: \"169.254.255.131:8080\"\u001b[0m\n",
      "\u001b[35m169.254.255.130 - - [22/Mar/2021:15:59:01 +0000] \"POST /invocations HTTP/1.1\" 200 32 \"-\" \"Go-http-client/1.1\"\u001b[0m\n",
      "\n",
      "\u001b[34mStarting the inference server with 4 workers.\u001b[0m\n",
      "\u001b[34m[2021-03-22 15:58:52 +0000] [13] [INFO] Starting gunicorn 20.0.4\u001b[0m\n",
      "\u001b[34m[2021-03-22 15:58:52 +0000] [13] [INFO] Listening at: unix:/tmp/gunicorn.sock (13)\u001b[0m\n",
      "\u001b[34m[2021-03-22 15:58:52 +0000] [13] [INFO] Using worker: gevent\u001b[0m\n",
      "\u001b[34m[2021-03-22 15:58:52 +0000] [15] [INFO] Booting worker with pid: 15\u001b[0m\n",
      "\u001b[34m[2021-03-22 15:58:52 +0000] [16] [INFO] Booting worker with pid: 16\u001b[0m\n",
      "\u001b[34m[2021-03-22 15:58:52 +0000] [23] [INFO] Booting worker with pid: 23\u001b[0m\n",
      "\u001b[34m[2021-03-22 15:58:52 +0000] [24] [INFO] Booting worker with pid: 24\u001b[0m\n",
      "\u001b[34m2021-03-22 15:58:53.015301: W tensorflow/stream_executor/platform/default/dso_loader.cc:60] Could not load dynamic library 'libcudart.so.11.0'; dlerror: libcudart.so.11.0: cannot open shared object file: No such file or directory\u001b[0m\n",
      "\u001b[34m2021-03-22 15:58:53.015806: I tensorflow/stream_executor/cuda/cudart_stub.cc:29] Ignore above cudart dlerror if you do not have a GPU set up on your machine.\u001b[0m\n",
      "\u001b[34m2021-03-22 15:58:53.137845: W tensorflow/stream_executor/platform/default/dso_loader.cc:60] Could not load dynamic library 'libcudart.so.11.0'; dlerror: libcudart.so.11.0: cannot open shared object file: No such file or directory\u001b[0m\n",
      "\u001b[34m2021-03-22 15:58:53.138332: I tensorflow/stream_executor/cuda/cudart_stub.cc:29] Ignore above cudart dlerror if you do not have a GPU set up on your machine.\u001b[0m\n",
      "\u001b[34m2021-03-22 15:58:53.184275: W tensorflow/stream_executor/platform/default/dso_loader.cc:60] Could not load dynamic library 'libcudart.so.11.0'; dlerror: libcudart.so.11.0: cannot open shared object file: No such file or directory\u001b[0m\n",
      "\u001b[35mStarting the inference server with 4 workers.\u001b[0m\n",
      "\u001b[35m[2021-03-22 15:58:52 +0000] [13] [INFO] Starting gunicorn 20.0.4\u001b[0m\n",
      "\u001b[35m[2021-03-22 15:58:52 +0000] [13] [INFO] Listening at: unix:/tmp/gunicorn.sock (13)\u001b[0m\n",
      "\u001b[35m[2021-03-22 15:58:52 +0000] [13] [INFO] Using worker: gevent\u001b[0m\n",
      "\u001b[35m[2021-03-22 15:58:52 +0000] [15] [INFO] Booting worker with pid: 15\u001b[0m\n",
      "\u001b[35m[2021-03-22 15:58:52 +0000] [16] [INFO] Booting worker with pid: 16\u001b[0m\n",
      "\u001b[35m[2021-03-22 15:58:52 +0000] [23] [INFO] Booting worker with pid: 23\u001b[0m\n",
      "\u001b[35m[2021-03-22 15:58:52 +0000] [24] [INFO] Booting worker with pid: 24\u001b[0m\n",
      "\u001b[35m2021-03-22 15:58:53.015301: W tensorflow/stream_executor/platform/default/dso_loader.cc:60] Could not load dynamic library 'libcudart.so.11.0'; dlerror: libcudart.so.11.0: cannot open shared object file: No such file or directory\u001b[0m\n",
      "\u001b[35m2021-03-22 15:58:53.015806: I tensorflow/stream_executor/cuda/cudart_stub.cc:29] Ignore above cudart dlerror if you do not have a GPU set up on your machine.\u001b[0m\n",
      "\u001b[35m2021-03-22 15:58:53.137845: W tensorflow/stream_executor/platform/default/dso_loader.cc:60] Could not load dynamic library 'libcudart.so.11.0'; dlerror: libcudart.so.11.0: cannot open shared object file: No such file or directory\u001b[0m\n",
      "\u001b[35m2021-03-22 15:58:53.138332: I tensorflow/stream_executor/cuda/cudart_stub.cc:29] Ignore above cudart dlerror if you do not have a GPU set up on your machine.\u001b[0m\n",
      "\u001b[35m2021-03-22 15:58:53.184275: W tensorflow/stream_executor/platform/default/dso_loader.cc:60] Could not load dynamic library 'libcudart.so.11.0'; dlerror: libcudart.so.11.0: cannot open shared object file: No such file or directory\u001b[0m\n",
      "\u001b[34m2021-03-22 15:58:53.184326: I tensorflow/stream_executor/cuda/cudart_stub.cc:29] Ignore above cudart dlerror if you do not have a GPU set up on your machine.\u001b[0m\n",
      "\u001b[34m2021-03-22 15:58:53.249576: W tensorflow/stream_executor/platform/default/dso_loader.cc:60] Could not load dynamic library 'libcudart.so.11.0'; dlerror: libcudart.so.11.0: cannot open shared object file: No such file or directory\u001b[0m\n",
      "\u001b[34m2021-03-22 15:58:53.250031: I tensorflow/stream_executor/cuda/cudart_stub.cc:29] Ignore above cudart dlerror if you do not have a GPU set up on your machine.\u001b[0m\n",
      "\u001b[35m2021-03-22 15:58:53.184326: I tensorflow/stream_executor/cuda/cudart_stub.cc:29] Ignore above cudart dlerror if you do not have a GPU set up on your machine.\u001b[0m\n",
      "\u001b[35m2021-03-22 15:58:53.249576: W tensorflow/stream_executor/platform/default/dso_loader.cc:60] Could not load dynamic library 'libcudart.so.11.0'; dlerror: libcudart.so.11.0: cannot open shared object file: No such file or directory\u001b[0m\n",
      "\u001b[35m2021-03-22 15:58:53.250031: I tensorflow/stream_executor/cuda/cudart_stub.cc:29] Ignore above cudart dlerror if you do not have a GPU set up on your machine.\u001b[0m\n",
      "\u001b[34m2021-03-22 15:59:00.816375: I tensorflow/compiler/jit/xla_cpu_device.cc:41] Not creating XLA devices, tf_xla_enable_xla_devices not set\u001b[0m\n",
      "\u001b[34m2021-03-22 15:59:00.816856: W tensorflow/stream_executor/platform/default/dso_loader.cc:60] Could not load dynamic library 'libcuda.so.1'; dlerror: libcuda.so.1: cannot open shared object file: No such file or directory\u001b[0m\n",
      "\u001b[34m2021-03-22 15:59:00.816898: W tensorflow/stream_executor/cuda/cuda_driver.cc:326] failed call to cuInit: UNKNOWN ERROR (303)\u001b[0m\n",
      "\u001b[35m2021-03-22 15:59:00.816375: I tensorflow/compiler/jit/xla_cpu_device.cc:41] Not creating XLA devices, tf_xla_enable_xla_devices not set\u001b[0m\n",
      "\u001b[35m2021-03-22 15:59:00.816856: W tensorflow/stream_executor/platform/default/dso_loader.cc:60] Could not load dynamic library 'libcuda.so.1'; dlerror: libcuda.so.1: cannot open shared object file: No such file or directory\u001b[0m\n",
      "\u001b[35m2021-03-22 15:59:00.816898: W tensorflow/stream_executor/cuda/cuda_driver.cc:326] failed call to cuInit: UNKNOWN ERROR (303)\u001b[0m\n",
      "\u001b[34m2021-03-22 15:59:00.816974: I tensorflow/stream_executor/cuda/cuda_diagnostics.cc:156] kernel driver does not appear to be running on this host (0781c5b6aa32): /proc/driver/nvidia/version does not exist\u001b[0m\n",
      "\u001b[34m2021-03-22 15:59:00.817839: I tensorflow/compiler/jit/xla_gpu_device.cc:99] Not creating XLA devices, tf_xla_enable_xla_devices not set\u001b[0m\n",
      "\u001b[34m2021-03-22 15:59:01.557776: I tensorflow/compiler/mlir/mlir_graph_optimization_pass.cc:116] None of the MLIR optimization passes are enabled (registered 2)\u001b[0m\n",
      "\u001b[34m2021-03-22 15:59:01.558805: I tensorflow/core/platform/profile_utils/cpu_utils.cc:112] CPU Frequency: 2300035000 Hz\u001b[0m\n",
      "\u001b[34m169.254.255.130 - - [22/Mar/2021:15:59:01 +0000] \"GET /ping HTTP/1.1\" 200 1 \"-\" \"Go-http-client/1.1\"\u001b[0m\n",
      "\u001b[34m169.254.255.130 - - [22/Mar/2021:15:59:01 +0000] \"GET /execution-parameters HTTP/1.1\" 404 2 \"-\" \"Go-http-client/1.1\"\u001b[0m\n",
      "\u001b[35m2021-03-22 15:59:00.816974: I tensorflow/stream_executor/cuda/cuda_diagnostics.cc:156] kernel driver does not appear to be running on this host (0781c5b6aa32): /proc/driver/nvidia/version does not exist\u001b[0m\n",
      "\u001b[35m2021-03-22 15:59:00.817839: I tensorflow/compiler/jit/xla_gpu_device.cc:99] Not creating XLA devices, tf_xla_enable_xla_devices not set\u001b[0m\n",
      "\u001b[35m2021-03-22 15:59:01.557776: I tensorflow/compiler/mlir/mlir_graph_optimization_pass.cc:116] None of the MLIR optimization passes are enabled (registered 2)\u001b[0m\n",
      "\u001b[35m2021-03-22 15:59:01.558805: I tensorflow/core/platform/profile_utils/cpu_utils.cc:112] CPU Frequency: 2300035000 Hz\u001b[0m\n",
      "\u001b[35m169.254.255.130 - - [22/Mar/2021:15:59:01 +0000] \"GET /ping HTTP/1.1\" 200 1 \"-\" \"Go-http-client/1.1\"\u001b[0m\n",
      "\u001b[35m169.254.255.130 - - [22/Mar/2021:15:59:01 +0000] \"GET /execution-parameters HTTP/1.1\" 404 2 \"-\" \"Go-http-client/1.1\"\u001b[0m\n",
      "\u001b[32m2021-03-22T15:59:01.732:[sagemaker logs]: MaxConcurrentTransforms=1, MaxPayloadInMB=6, BatchStrategy=MULTI_RECORD\u001b[0m\n",
      "\u001b[34m2021/03/22 15:59:01 [error] 12#12: *4 readv() failed (104: Connection reset by peer) while reading upstream, client: 169.254.255.130, server: , request: \"POST /invocations HTTP/1.1\", upstream: \"http://unix:/tmp/gunicorn.sock:/invocations\", host: \"169.254.255.131:8080\"\u001b[0m\n",
      "\u001b[34m169.254.255.130 - - [22/Mar/2021:15:59:01 +0000] \"POST /invocations HTTP/1.1\" 200 32 \"-\" \"Go-http-client/1.1\"\u001b[0m\n",
      "\u001b[35m2021/03/22 15:59:01 [error] 12#12: *4 readv() failed (104: Connection reset by peer) while reading upstream, client: 169.254.255.130, server: , request: \"POST /invocations HTTP/1.1\", upstream: \"http://unix:/tmp/gunicorn.sock:/invocations\", host: \"169.254.255.131:8080\"\u001b[0m\n",
      "\u001b[35m169.254.255.130 - - [22/Mar/2021:15:59:01 +0000] \"POST /invocations HTTP/1.1\" 200 32 \"-\" \"Go-http-client/1.1\"\u001b[0m\n",
      "Batch Transform output saved to s3://sagemaker-us-east-2-786796469737/batch-transform-output\n"
     ]
    }
   ],
   "source": [
    "transformer.transform(test_data, content_type='application/zip')\n",
    "transformer.wait()\n",
    "print(\"Batch Transform output saved to \" + transformer.output_path)"
   ]
  },
  {
   "cell_type": "markdown",
   "metadata": {},
   "source": [
    "#### Inspect the Batch Transform Output in S3"
   ]
  },
  {
   "cell_type": "code",
   "execution_count": 48,
   "metadata": {},
   "outputs": [
    {
     "name": "stdout",
     "output_type": "stream",
     "text": [
      "b'Please send a proper format file'\n"
     ]
    }
   ],
   "source": [
    "from urllib.parse import urlparse\n",
    "\n",
    "parsed_url = urlparse(transformer.output_path)\n",
    "bucket_name = parsed_url.netloc\n",
    "file_key = '{}/{}.out'.format(parsed_url.path[1:], \"sample_test.zip\")\n",
    "\n",
    "\n",
    "\n",
    "s3_client = sess.boto_session.client('s3')\n",
    "\n",
    "response = s3_client.get_object(Bucket = sess.default_bucket(), Key = file_key)\n",
    "response_bytes = response['Body'].read()\n",
    "print(response_bytes)"
   ]
  },
  {
   "cell_type": "markdown",
   "metadata": {},
   "source": [
    "### View Output\n",
    "Lets read results of above transform job from s3 files and print output"
   ]
  },
  {
   "cell_type": "code",
   "execution_count": 30,
   "metadata": {},
   "outputs": [
    {
     "name": "stdout",
     "output_type": "stream",
     "text": [
      "ID,Reported_Day,prod_cat,Country,Priority,Impact,Incident_Type,Reported_Source,Predicted Group\n",
      "INC000014022289,3,prod_cat -1,Country-1,Low,4-Minor,Incident_Type-1,Phone,Target-7\n",
      "INC000014060316,2,prod_cat -1,Country-1,Low,1-Minor,Incident_Type-2,Phone,Target-4\n",
      "INC000013880496,3,prod_cat -2,Country-1,Low,2-Minor,Incident_Type-1,Phone,Target-4\n",
      "\n"
     ]
    }
   ],
   "source": [
    "s3_client = sess.boto_session.client('s3')\n",
    "s3_client.download_file(sess.default_bucket(), \"{}/test.csv.out\".format(transform_output_folder), '/tmp/test.csv.out')\n",
    "with open('/tmp/test.csv.out') as f:\n",
    "    results = f.readlines() \n",
    "##print(\"Transform results: \\n{}\".format(''.join(results)))\n",
    "string_final = ''.join(results)\n",
    "\n",
    "print(string_final)\n",
    "\n",
    "with open(\"Output.txt\", \"w\") as text_file:\n",
    "    text_file.write(string_final)"
   ]
  },
  {
   "cell_type": "code",
   "execution_count": null,
   "metadata": {},
   "outputs": [],
   "source": []
  }
 ],
 "metadata": {
  "kernelspec": {
   "display_name": "conda_python3",
   "language": "python",
   "name": "conda_python3"
  },
  "language_info": {
   "codemirror_mode": {
    "name": "ipython",
    "version": 3
   },
   "file_extension": ".py",
   "mimetype": "text/x-python",
   "name": "python",
   "nbconvert_exporter": "python",
   "pygments_lexer": "ipython3",
   "version": "3.6.10"
  }
 },
 "nbformat": 4,
 "nbformat_minor": 4
}